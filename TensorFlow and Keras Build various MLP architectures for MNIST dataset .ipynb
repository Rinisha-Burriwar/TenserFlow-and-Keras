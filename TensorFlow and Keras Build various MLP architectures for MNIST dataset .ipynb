{
 "cells": [
  {
   "cell_type": "markdown",
   "metadata": {
    "colab_type": "text",
    "id": "UTJmsXnXQKbG"
   },
   "source": [
    "## Keras -- MLPs on MNIST"
   ]
  },
  {
   "cell_type": "markdown",
   "metadata": {},
   "source": [
    "# 1. Importing packages"
   ]
  },
  {
   "cell_type": "code",
   "execution_count": 1,
   "metadata": {
    "colab": {
     "base_uri": "https://localhost:8080/",
     "height": 35
    },
    "colab_type": "code",
    "id": "2UILABPAQKbH",
    "outputId": "90c8540d-ad0a-40a7-d715-ede6a26f3ada"
   },
   "outputs": [
    {
     "name": "stderr",
     "output_type": "stream",
     "text": [
      "Using TensorFlow backend.\n"
     ]
    }
   ],
   "source": [
    "# if you keras is not using tensorflow as backend set \"KERAS_BACKEND=tensorflow\" use this command\n",
    "from keras.utils import np_utils \n",
    "from keras.datasets import mnist \n",
    "import seaborn as sns\n",
    "from keras.initializers import RandomNormal"
   ]
  },
  {
   "cell_type": "markdown",
   "metadata": {},
   "source": [
    "# 2. Function for plotting Train and Test Error"
   ]
  },
  {
   "cell_type": "code",
   "execution_count": 0,
   "metadata": {
    "colab": {},
    "colab_type": "code",
    "id": "lOO-TM_7QKbM"
   },
   "outputs": [],
   "source": [
    "%matplotlib notebook\n",
    "import matplotlib.pyplot as plt\n",
    "import numpy as np\n",
    "import time\n",
    "# https://gist.github.com/greydanus/f6eee59eaf1d90fcb3b534a25362cea4\n",
    "# https://stackoverflow.com/a/14434334\n",
    "# this function is used to update the plots for each epoch and error\n",
    "def plt_dynamic(x, vy, ty, ax, colors=['b']):\n",
    "    ax.plot(x, vy, 'b', label=\"Validation Loss\")\n",
    "    ax.plot(x, ty, 'r', label=\"Train Loss\")\n",
    "    plt.legend()\n",
    "    plt.grid()\n",
    "    fig.canvas.draw()"
   ]
  },
  {
   "cell_type": "markdown",
   "metadata": {},
   "source": [
    "# 3.Splitting data into train and test"
   ]
  },
  {
   "cell_type": "code",
   "execution_count": 3,
   "metadata": {
    "colab": {
     "base_uri": "https://localhost:8080/",
     "height": 52
    },
    "colab_type": "code",
    "id": "TKmYKnibQKbQ",
    "outputId": "dc5c5b4f-590c-41f0-c646-dd3aa9bc4eee"
   },
   "outputs": [
    {
     "name": "stdout",
     "output_type": "stream",
     "text": [
      "Downloading data from https://s3.amazonaws.com/img-datasets/mnist.npz\n",
      "11493376/11490434 [==============================] - 1s 0us/step\n"
     ]
    }
   ],
   "source": [
    "# the data, shuffled and split between train and test sets \n",
    "(X_train, y_train), (X_test, y_test) = mnist.load_data()"
   ]
  },
  {
   "cell_type": "code",
   "execution_count": 4,
   "metadata": {
    "colab": {
     "base_uri": "https://localhost:8080/",
     "height": 35
    },
    "colab_type": "code",
    "id": "8DRQaWn9OLjl",
    "outputId": "1e483346-9e12-4d3e-b098-60d6d29215ff"
   },
   "outputs": [
    {
     "data": {
      "text/plain": [
       "(60000, 28, 28)"
      ]
     },
     "execution_count": 4,
     "metadata": {
      "tags": []
     },
     "output_type": "execute_result"
    }
   ],
   "source": [
    "X_train.shape"
   ]
  },
  {
   "cell_type": "code",
   "execution_count": 5,
   "metadata": {
    "colab": {
     "base_uri": "https://localhost:8080/",
     "height": 52
    },
    "colab_type": "code",
    "id": "CCwnZae-QKbT",
    "outputId": "6384ea3e-86bd-4111-897d-6b00f66f0bc0"
   },
   "outputs": [
    {
     "name": "stdout",
     "output_type": "stream",
     "text": [
      "Number of training examples : 60000 and each image is of shape (28, 28)\n",
      "Number of training examples : 10000 and each image is of shape (28, 28)\n"
     ]
    }
   ],
   "source": [
    "print(\"Number of training examples :\", X_train.shape[0], \"and each image is of shape (%d, %d)\"%(X_train.shape[1], X_train.shape[2]))\n",
    "print(\"Number of training examples :\", X_test.shape[0], \"and each image is of shape (%d, %d)\"%(X_test.shape[1], X_test.shape[2]))"
   ]
  },
  {
   "cell_type": "code",
   "execution_count": 0,
   "metadata": {
    "colab": {},
    "colab_type": "code",
    "id": "BlotuCmoQKbW"
   },
   "outputs": [],
   "source": [
    "# if you observe the input shape its 2 dimensional vector\n",
    "# for each image we have a (28*28) vector\n",
    "# we will convert the (28*28) vector into single dimensional vector of 1 * 784 \n",
    "\n",
    "X_train = X_train.reshape(X_train.shape[0], X_train.shape[1]*X_train.shape[2]) \n",
    "X_test = X_test.reshape(X_test.shape[0], X_test.shape[1]*X_test.shape[2]) "
   ]
  },
  {
   "cell_type": "code",
   "execution_count": 7,
   "metadata": {
    "colab": {
     "base_uri": "https://localhost:8080/",
     "height": 52
    },
    "colab_type": "code",
    "id": "8JvpNJy4QKbY",
    "outputId": "9f1402b2-3644-4895-ff40-a44b7de7dada"
   },
   "outputs": [
    {
     "name": "stdout",
     "output_type": "stream",
     "text": [
      "Number of training examples : 60000 and each image is of shape (784)\n",
      "Number of training examples : 10000 and each image is of shape (784)\n"
     ]
    }
   ],
   "source": [
    "# after converting the input images from 3d to 2d vectors\n",
    "\n",
    "print(\"Number of training examples :\", X_train.shape[0], \"and each image is of shape (%d)\"%(X_train.shape[1]))\n",
    "print(\"Number of training examples :\", X_test.shape[0], \"and each image is of shape (%d)\"%(X_test.shape[1]))"
   ]
  },
  {
   "cell_type": "code",
   "execution_count": 8,
   "metadata": {
    "colab": {
     "base_uri": "https://localhost:8080/",
     "height": 799
    },
    "colab_type": "code",
    "id": "qvuaHDk0QKbb",
    "outputId": "285fdbd5-e12b-4b7a-c14f-4aae10cee8a2"
   },
   "outputs": [
    {
     "name": "stdout",
     "output_type": "stream",
     "text": [
      "[  0   0   0   0   0   0   0   0   0   0   0   0   0   0   0   0   0   0\n",
      "   0   0   0   0   0   0   0   0   0   0   0   0   0   0   0   0   0   0\n",
      "   0   0   0   0   0   0   0   0   0   0   0   0   0   0   0   0   0   0\n",
      "   0   0   0   0   0   0   0   0   0   0   0   0   0   0   0   0   0   0\n",
      "   0   0   0   0   0   0   0   0   0   0   0   0   0   0   0   0   0   0\n",
      "   0   0   0   0   0   0   0   0   0   0   0   0   0   0   0   0   0   0\n",
      "   0   0   0   0   0   0   0   0   0   0   0   0   0   0   0   0   0   0\n",
      "   0   0   0   0   0   0   0   0   0   0   0   0   0   0   0   0   0   0\n",
      "   0   0   0   0   0   0   0   0   3  18  18  18 126 136 175  26 166 255\n",
      " 247 127   0   0   0   0   0   0   0   0   0   0   0   0  30  36  94 154\n",
      " 170 253 253 253 253 253 225 172 253 242 195  64   0   0   0   0   0   0\n",
      "   0   0   0   0   0  49 238 253 253 253 253 253 253 253 253 251  93  82\n",
      "  82  56  39   0   0   0   0   0   0   0   0   0   0   0   0  18 219 253\n",
      " 253 253 253 253 198 182 247 241   0   0   0   0   0   0   0   0   0   0\n",
      "   0   0   0   0   0   0   0   0  80 156 107 253 253 205  11   0  43 154\n",
      "   0   0   0   0   0   0   0   0   0   0   0   0   0   0   0   0   0   0\n",
      "   0  14   1 154 253  90   0   0   0   0   0   0   0   0   0   0   0   0\n",
      "   0   0   0   0   0   0   0   0   0   0   0   0   0 139 253 190   2   0\n",
      "   0   0   0   0   0   0   0   0   0   0   0   0   0   0   0   0   0   0\n",
      "   0   0   0   0   0  11 190 253  70   0   0   0   0   0   0   0   0   0\n",
      "   0   0   0   0   0   0   0   0   0   0   0   0   0   0   0   0  35 241\n",
      " 225 160 108   1   0   0   0   0   0   0   0   0   0   0   0   0   0   0\n",
      "   0   0   0   0   0   0   0   0   0  81 240 253 253 119  25   0   0   0\n",
      "   0   0   0   0   0   0   0   0   0   0   0   0   0   0   0   0   0   0\n",
      "   0   0  45 186 253 253 150  27   0   0   0   0   0   0   0   0   0   0\n",
      "   0   0   0   0   0   0   0   0   0   0   0   0   0  16  93 252 253 187\n",
      "   0   0   0   0   0   0   0   0   0   0   0   0   0   0   0   0   0   0\n",
      "   0   0   0   0   0   0   0 249 253 249  64   0   0   0   0   0   0   0\n",
      "   0   0   0   0   0   0   0   0   0   0   0   0   0   0  46 130 183 253\n",
      " 253 207   2   0   0   0   0   0   0   0   0   0   0   0   0   0   0   0\n",
      "   0   0   0   0  39 148 229 253 253 253 250 182   0   0   0   0   0   0\n",
      "   0   0   0   0   0   0   0   0   0   0   0   0  24 114 221 253 253 253\n",
      " 253 201  78   0   0   0   0   0   0   0   0   0   0   0   0   0   0   0\n",
      "   0   0  23  66 213 253 253 253 253 198  81   2   0   0   0   0   0   0\n",
      "   0   0   0   0   0   0   0   0   0   0  18 171 219 253 253 253 253 195\n",
      "  80   9   0   0   0   0   0   0   0   0   0   0   0   0   0   0   0   0\n",
      "  55 172 226 253 253 253 253 244 133  11   0   0   0   0   0   0   0   0\n",
      "   0   0   0   0   0   0   0   0   0   0 136 253 253 253 212 135 132  16\n",
      "   0   0   0   0   0   0   0   0   0   0   0   0   0   0   0   0   0   0\n",
      "   0   0   0   0   0   0   0   0   0   0   0   0   0   0   0   0   0   0\n",
      "   0   0   0   0   0   0   0   0   0   0   0   0   0   0   0   0   0   0\n",
      "   0   0   0   0   0   0   0   0   0   0   0   0   0   0   0   0   0   0\n",
      "   0   0   0   0   0   0   0   0   0   0   0   0   0   0   0   0   0   0\n",
      "   0   0   0   0   0   0   0   0   0   0]\n"
     ]
    }
   ],
   "source": [
    "# An example data point\n",
    "print(X_train[0])"
   ]
  },
  {
   "cell_type": "code",
   "execution_count": 9,
   "metadata": {
    "colab": {
     "base_uri": "https://localhost:8080/",
     "height": 552
    },
    "colab_type": "code",
    "id": "TxbdrA9wPOhS",
    "outputId": "c451c561-98ef-4c46-b387-05243b795797"
   },
   "outputs": [
    {
     "name": "stdout",
     "output_type": "stream",
     "text": [
      "WARNING:tensorflow:From <ipython-input-9-f74fff8394f0>:3: read_data_sets (from tensorflow.contrib.learn.python.learn.datasets.mnist) is deprecated and will be removed in a future version.\n",
      "Instructions for updating:\n",
      "Please use alternatives such as official/mnist/dataset.py from tensorflow/models.\n",
      "WARNING:tensorflow:From /usr/local/lib/python3.6/dist-packages/tensorflow/contrib/learn/python/learn/datasets/mnist.py:260: maybe_download (from tensorflow.contrib.learn.python.learn.datasets.base) is deprecated and will be removed in a future version.\n",
      "Instructions for updating:\n",
      "Please write your own downloading logic.\n",
      "WARNING:tensorflow:From /usr/local/lib/python3.6/dist-packages/tensorflow/contrib/learn/python/learn/datasets/base.py:252: _internal_retry.<locals>.wrap.<locals>.wrapped_fn (from tensorflow.contrib.learn.python.learn.datasets.base) is deprecated and will be removed in a future version.\n",
      "Instructions for updating:\n",
      "Please use urllib or similar directly.\n",
      "Successfully downloaded train-images-idx3-ubyte.gz 9912422 bytes.\n",
      "WARNING:tensorflow:From /usr/local/lib/python3.6/dist-packages/tensorflow/contrib/learn/python/learn/datasets/mnist.py:262: extract_images (from tensorflow.contrib.learn.python.learn.datasets.mnist) is deprecated and will be removed in a future version.\n",
      "Instructions for updating:\n",
      "Please use tf.data to implement this functionality.\n",
      "Extracting /tmp/data/train-images-idx3-ubyte.gz\n",
      "Successfully downloaded train-labels-idx1-ubyte.gz 28881 bytes.\n",
      "WARNING:tensorflow:From /usr/local/lib/python3.6/dist-packages/tensorflow/contrib/learn/python/learn/datasets/mnist.py:267: extract_labels (from tensorflow.contrib.learn.python.learn.datasets.mnist) is deprecated and will be removed in a future version.\n",
      "Instructions for updating:\n",
      "Please use tf.data to implement this functionality.\n",
      "Extracting /tmp/data/train-labels-idx1-ubyte.gz\n",
      "WARNING:tensorflow:From /usr/local/lib/python3.6/dist-packages/tensorflow/contrib/learn/python/learn/datasets/mnist.py:110: dense_to_one_hot (from tensorflow.contrib.learn.python.learn.datasets.mnist) is deprecated and will be removed in a future version.\n",
      "Instructions for updating:\n",
      "Please use tf.one_hot on tensors.\n",
      "Successfully downloaded t10k-images-idx3-ubyte.gz 1648877 bytes.\n",
      "Extracting /tmp/data/t10k-images-idx3-ubyte.gz\n",
      "Successfully downloaded t10k-labels-idx1-ubyte.gz 4542 bytes.\n",
      "Extracting /tmp/data/t10k-labels-idx1-ubyte.gz\n",
      "WARNING:tensorflow:From /usr/local/lib/python3.6/dist-packages/tensorflow/contrib/learn/python/learn/datasets/mnist.py:290: DataSet.__init__ (from tensorflow.contrib.learn.python.learn.datasets.mnist) is deprecated and will be removed in a future version.\n",
      "Instructions for updating:\n",
      "Please use alternatives such as official/mnist/dataset.py from tensorflow/models.\n"
     ]
    }
   ],
   "source": [
    "from tensorflow.examples.tutorials.mnist import input_data\n",
    "\n",
    "mnist1 = input_data.read_data_sets(\"/tmp/data/\", one_hot=True)"
   ]
  },
  {
   "cell_type": "code",
   "execution_count": 10,
   "metadata": {
    "colab": {
     "base_uri": "https://localhost:8080/",
     "height": 269
    },
    "colab_type": "code",
    "id": "fiop0R3vP5vF",
    "outputId": "8ba81cc6-66e2-4ab0-f5c8-4603da0f1d31"
   },
   "outputs": [
    {
     "data": {
      "image/png": "[encoded data removed]",
      "text/plain": [
       "<Figure size 432x288 with 1 Axes>"
      ]
     },
     "metadata": {
      "tags": []
     },
     "output_type": "display_data"
    }
   ],
   "source": [
    "%matplotlib inline\n",
    "first_image = mnist1.train.images[0]\n",
    "first_image = np.array(first_image, dtype='float')\n",
    "pixels = first_image.reshape((28, 28))\n",
    "plt.imshow(pixels, cmap='gray')\n",
    "plt.show()"
   ]
  },
  {
   "cell_type": "markdown",
   "metadata": {},
   "source": [
    "# 4. Normalizing data"
   ]
  },
  {
   "cell_type": "code",
   "execution_count": 0,
   "metadata": {
    "colab": {},
    "colab_type": "code",
    "id": "lfohtdKPQKbd"
   },
   "outputs": [],
   "source": [
    "# if we observe the above matrix each cell is having a value between 0-255\n",
    "# before we move to apply machine learning algorithms lets try to normalize the data\n",
    "# X => (X - Xmin)/(Xmax-Xmin) = X/255\n",
    "\n",
    "X_train = X_train/255\n",
    "X_test = X_test/255"
   ]
  },
  {
   "cell_type": "code",
   "execution_count": 12,
   "metadata": {
    "colab": {
     "base_uri": "https://localhost:8080/",
     "height": 1000
    },
    "colab_type": "code",
    "id": "4C-dmsXJQKbf",
    "outputId": "faad7588-d49a-4669-f46a-dcf40970b933"
   },
   "outputs": [
    {
     "name": "stdout",
     "output_type": "stream",
     "text": [
      "[0.         0.         0.         0.         0.         0.\n",
      " 0.         0.         0.         0.         0.         0.\n",
      " 0.         0.         0.         0.         0.         0.\n",
      " 0.         0.         0.         0.         0.         0.\n",
      " 0.         0.         0.         0.         0.         0.\n",
      " 0.         0.         0.         0.         0.         0.\n",
      " 0.         0.         0.         0.         0.         0.\n",
      " 0.         0.         0.         0.         0.         0.\n",
      " 0.         0.         0.         0.         0.         0.\n",
      " 0.         0.         0.         0.         0.         0.\n",
      " 0.         0.         0.         0.         0.         0.\n",
      " 0.         0.         0.         0.         0.         0.\n",
      " 0.         0.         0.         0.         0.         0.\n",
      " 0.         0.         0.         0.         0.         0.\n",
      " 0.         0.         0.         0.         0.         0.\n",
      " 0.         0.         0.         0.         0.         0.\n",
      " 0.         0.         0.         0.         0.         0.\n",
      " 0.         0.         0.         0.         0.         0.\n",
      " 0.         0.         0.         0.         0.         0.\n",
      " 0.         0.         0.         0.         0.         0.\n",
      " 0.         0.         0.         0.         0.         0.\n",
      " 0.         0.         0.         0.         0.         0.\n",
      " 0.         0.         0.         0.         0.         0.\n",
      " 0.         0.         0.         0.         0.         0.\n",
      " 0.         0.         0.         0.         0.         0.\n",
      " 0.         0.         0.01176471 0.07058824 0.07058824 0.07058824\n",
      " 0.49411765 0.53333333 0.68627451 0.10196078 0.65098039 1.\n",
      " 0.96862745 0.49803922 0.         0.         0.         0.\n",
      " 0.         0.         0.         0.         0.         0.\n",
      " 0.         0.         0.11764706 0.14117647 0.36862745 0.60392157\n",
      " 0.66666667 0.99215686 0.99215686 0.99215686 0.99215686 0.99215686\n",
      " 0.88235294 0.6745098  0.99215686 0.94901961 0.76470588 0.25098039\n",
      " 0.         0.         0.         0.         0.         0.\n",
      " 0.         0.         0.         0.         0.         0.19215686\n",
      " 0.93333333 0.99215686 0.99215686 0.99215686 0.99215686 0.99215686\n",
      " 0.99215686 0.99215686 0.99215686 0.98431373 0.36470588 0.32156863\n",
      " 0.32156863 0.21960784 0.15294118 0.         0.         0.\n",
      " 0.         0.         0.         0.         0.         0.\n",
      " 0.         0.         0.         0.07058824 0.85882353 0.99215686\n",
      " 0.99215686 0.99215686 0.99215686 0.99215686 0.77647059 0.71372549\n",
      " 0.96862745 0.94509804 0.         0.         0.         0.\n",
      " 0.         0.         0.         0.         0.         0.\n",
      " 0.         0.         0.         0.         0.         0.\n",
      " 0.         0.         0.31372549 0.61176471 0.41960784 0.99215686\n",
      " 0.99215686 0.80392157 0.04313725 0.         0.16862745 0.60392157\n",
      " 0.         0.         0.         0.         0.         0.\n",
      " 0.         0.         0.         0.         0.         0.\n",
      " 0.         0.         0.         0.         0.         0.\n",
      " 0.         0.05490196 0.00392157 0.60392157 0.99215686 0.35294118\n",
      " 0.         0.         0.         0.         0.         0.\n",
      " 0.         0.         0.         0.         0.         0.\n",
      " 0.         0.         0.         0.         0.         0.\n",
      " 0.         0.         0.         0.         0.         0.\n",
      " 0.         0.54509804 0.99215686 0.74509804 0.00784314 0.\n",
      " 0.         0.         0.         0.         0.         0.\n",
      " 0.         0.         0.         0.         0.         0.\n",
      " 0.         0.         0.         0.         0.         0.\n",
      " 0.         0.         0.         0.         0.         0.04313725\n",
      " 0.74509804 0.99215686 0.2745098  0.         0.         0.\n",
      " 0.         0.         0.         0.         0.         0.\n",
      " 0.         0.         0.         0.         0.         0.\n",
      " 0.         0.         0.         0.         0.         0.\n",
      " 0.         0.         0.         0.         0.1372549  0.94509804\n",
      " 0.88235294 0.62745098 0.42352941 0.00392157 0.         0.\n",
      " 0.         0.         0.         0.         0.         0.\n",
      " 0.         0.         0.         0.         0.         0.\n",
      " 0.         0.         0.         0.         0.         0.\n",
      " 0.         0.         0.         0.31764706 0.94117647 0.99215686\n",
      " 0.99215686 0.46666667 0.09803922 0.         0.         0.\n",
      " 0.         0.         0.         0.         0.         0.\n",
      " 0.         0.         0.         0.         0.         0.\n",
      " 0.         0.         0.         0.         0.         0.\n",
      " 0.         0.         0.17647059 0.72941176 0.99215686 0.99215686\n",
      " 0.58823529 0.10588235 0.         0.         0.         0.\n",
      " 0.         0.         0.         0.         0.         0.\n",
      " 0.         0.         0.         0.         0.         0.\n",
      " 0.         0.         0.         0.         0.         0.\n",
      " 0.         0.0627451  0.36470588 0.98823529 0.99215686 0.73333333\n",
      " 0.         0.         0.         0.         0.         0.\n",
      " 0.         0.         0.         0.         0.         0.\n",
      " 0.         0.         0.         0.         0.         0.\n",
      " 0.         0.         0.         0.         0.         0.\n",
      " 0.         0.97647059 0.99215686 0.97647059 0.25098039 0.\n",
      " 0.         0.         0.         0.         0.         0.\n",
      " 0.         0.         0.         0.         0.         0.\n",
      " 0.         0.         0.         0.         0.         0.\n",
      " 0.         0.         0.18039216 0.50980392 0.71764706 0.99215686\n",
      " 0.99215686 0.81176471 0.00784314 0.         0.         0.\n",
      " 0.         0.         0.         0.         0.         0.\n",
      " 0.         0.         0.         0.         0.         0.\n",
      " 0.         0.         0.         0.         0.15294118 0.58039216\n",
      " 0.89803922 0.99215686 0.99215686 0.99215686 0.98039216 0.71372549\n",
      " 0.         0.         0.         0.         0.         0.\n",
      " 0.         0.         0.         0.         0.         0.\n",
      " 0.         0.         0.         0.         0.         0.\n",
      " 0.09411765 0.44705882 0.86666667 0.99215686 0.99215686 0.99215686\n",
      " 0.99215686 0.78823529 0.30588235 0.         0.         0.\n",
      " 0.         0.         0.         0.         0.         0.\n",
      " 0.         0.         0.         0.         0.         0.\n",
      " 0.         0.         0.09019608 0.25882353 0.83529412 0.99215686\n",
      " 0.99215686 0.99215686 0.99215686 0.77647059 0.31764706 0.00784314\n",
      " 0.         0.         0.         0.         0.         0.\n",
      " 0.         0.         0.         0.         0.         0.\n",
      " 0.         0.         0.         0.         0.07058824 0.67058824\n",
      " 0.85882353 0.99215686 0.99215686 0.99215686 0.99215686 0.76470588\n",
      " 0.31372549 0.03529412 0.         0.         0.         0.\n",
      " 0.         0.         0.         0.         0.         0.\n",
      " 0.         0.         0.         0.         0.         0.\n",
      " 0.21568627 0.6745098  0.88627451 0.99215686 0.99215686 0.99215686\n",
      " 0.99215686 0.95686275 0.52156863 0.04313725 0.         0.\n",
      " 0.         0.         0.         0.         0.         0.\n",
      " 0.         0.         0.         0.         0.         0.\n",
      " 0.         0.         0.         0.         0.53333333 0.99215686\n",
      " 0.99215686 0.99215686 0.83137255 0.52941176 0.51764706 0.0627451\n",
      " 0.         0.         0.         0.         0.         0.\n",
      " 0.         0.         0.         0.         0.         0.\n",
      " 0.         0.         0.         0.         0.         0.\n",
      " 0.         0.         0.         0.         0.         0.\n",
      " 0.         0.         0.         0.         0.         0.\n",
      " 0.         0.         0.         0.         0.         0.\n",
      " 0.         0.         0.         0.         0.         0.\n",
      " 0.         0.         0.         0.         0.         0.\n",
      " 0.         0.         0.         0.         0.         0.\n",
      " 0.         0.         0.         0.         0.         0.\n",
      " 0.         0.         0.         0.         0.         0.\n",
      " 0.         0.         0.         0.         0.         0.\n",
      " 0.         0.         0.         0.         0.         0.\n",
      " 0.         0.         0.         0.         0.         0.\n",
      " 0.         0.         0.         0.         0.         0.\n",
      " 0.         0.         0.         0.         0.         0.\n",
      " 0.         0.         0.         0.        ]\n"
     ]
    }
   ],
   "source": [
    "# example data point after normlizing\n",
    "print(X_train[0])"
   ]
  },
  {
   "cell_type": "code",
   "execution_count": 13,
   "metadata": {
    "colab": {
     "base_uri": "https://localhost:8080/",
     "height": 52
    },
    "colab_type": "code",
    "id": "3Ruu-vXzQKbi",
    "outputId": "23cbcf0f-b38d-48e7-8e05-aa8d4d48779f"
   },
   "outputs": [
    {
     "name": "stdout",
     "output_type": "stream",
     "text": [
      "Class label of first image : 5\n",
      "After converting the output into a vector :  [0. 0. 0. 0. 0. 1. 0. 0. 0. 0.]\n"
     ]
    }
   ],
   "source": [
    "# here we are having a class number for each image\n",
    "print(\"Class label of first image :\", y_train[0])\n",
    "\n",
    "# lets convert this into a 10 dimensional vector\n",
    "# ex: consider an image is 5 convert it into 5 => [0, 0, 0, 0, 0, 1, 0, 0, 0, 0]\n",
    "# this conversion needed for MLPs \n",
    "\n",
    "Y_train = np_utils.to_categorical(y_train, 10) \n",
    "Y_test = np_utils.to_categorical(y_test, 10)\n",
    "\n",
    "print(\"After converting the output into a vector : \",Y_train[0])"
   ]
  },
  {
   "cell_type": "markdown",
   "metadata": {
    "colab_type": "text",
    "id": "u0pWB6UyQKbk"
   },
   "source": [
    "<h2>  Softmax classifier  </h2>"
   ]
  },
  {
   "cell_type": "code",
   "execution_count": 0,
   "metadata": {
    "colab": {},
    "colab_type": "code",
    "id": "tLAGMubCQKbm"
   },
   "outputs": [],
   "source": [
    "# https://keras.io/getting-started/sequential-model-guide/\n",
    "\n",
    "# The Sequential model is a linear stack of layers.\n",
    "# you can create a Sequential model by passing a list of layer instances to the constructor:\n",
    "\n",
    "# model = Sequential([\n",
    "#     Dense(32, input_shape=(784,)),\n",
    "#     Activation('relu'),\n",
    "#     Dense(10),\n",
    "#     Activation('softmax'),\n",
    "# ])\n",
    "\n",
    "# You can also simply add layers via the .add() method:\n",
    "\n",
    "# model = Sequential()\n",
    "# model.add(Dense(32, input_dim=784))\n",
    "# model.add(Activation('relu'))\n",
    "\n",
    "###\n",
    "\n",
    "# https://keras.io/layers/core/\n",
    "\n",
    "# keras.layers.Dense(units, activation=None, use_bias=True, kernel_initializer='glorot_uniform', \n",
    "# bias_initializer='zeros', kernel_regularizer=None, bias_regularizer=None, activity_regularizer=None, \n",
    "# kernel_constraint=None, bias_constraint=None)\n",
    "\n",
    "# Dense implements the operation: output = activation(dot(input, kernel) + bias) where\n",
    "# activation is the element-wise activation function passed as the activation argument, \n",
    "# kernel is a weights matrix created by the layer, and \n",
    "# bias is a bias vector created by the layer (only applicable if use_bias is True).\n",
    "\n",
    "# output = activation(dot(input, kernel) + bias)  => y = activation(WT. X + b)\n",
    "\n",
    "####\n",
    "\n",
    "# https://keras.io/activations/\n",
    "\n",
    "# Activations can either be used through an Activation layer, or through the activation argument supported by all forward layers:\n",
    "\n",
    "# from keras.layers import Activation, Dense\n",
    "\n",
    "# model.add(Dense(64))\n",
    "# model.add(Activation('tanh'))\n",
    "\n",
    "# This is equivalent to:\n",
    "# model.add(Dense(64, activation='tanh'))\n",
    "\n",
    "# there are many activation functions ar available ex: tanh, relu, softmax\n",
    "\n",
    "\n",
    "from keras.models import Sequential \n",
    "from keras.layers import Dense, Activation \n"
   ]
  },
  {
   "cell_type": "code",
   "execution_count": 0,
   "metadata": {
    "colab": {},
    "colab_type": "code",
    "id": "I0s7jzhVQKbn"
   },
   "outputs": [],
   "source": [
    "# some model parameters\n",
    "\n",
    "output_dim = 10\n",
    "input_dim = X_train.shape[1]\n",
    "\n",
    "batch_size = 128 \n",
    "nb_epoch = 30"
   ]
  },
  {
   "cell_type": "code",
   "execution_count": 16,
   "metadata": {
    "colab": {
     "base_uri": "https://localhost:8080/",
     "height": 124
    },
    "colab_type": "code",
    "id": "HdQg5wGDQKbr",
    "outputId": "12fbb3cb-9b0d-408b-8b69-d90fe8968af2"
   },
   "outputs": [
    {
     "name": "stdout",
     "output_type": "stream",
     "text": [
      "WARNING:tensorflow:From /usr/local/lib/python3.6/dist-packages/keras/backend/tensorflow_backend.py:66: The name tf.get_default_graph is deprecated. Please use tf.compat.v1.get_default_graph instead.\n",
      "\n",
      "WARNING:tensorflow:From /usr/local/lib/python3.6/dist-packages/keras/backend/tensorflow_backend.py:541: The name tf.placeholder is deprecated. Please use tf.compat.v1.placeholder instead.\n",
      "\n",
      "WARNING:tensorflow:From /usr/local/lib/python3.6/dist-packages/keras/backend/tensorflow_backend.py:4432: The name tf.random_uniform is deprecated. Please use tf.random.uniform instead.\n",
      "\n"
     ]
    }
   ],
   "source": [
    "# start building a model\n",
    "model = Sequential()\n",
    "\n",
    "# The model needs to know what input shape it should expect. \n",
    "# For this reason, the first layer in a Sequential model \n",
    "# (and only the first, because following layers can do automatic shape inference)\n",
    "# needs to receive information about its input shape. \n",
    "# you can use input_shape and input_dim to pass the shape of input\n",
    "\n",
    "# output_dim represent the number of nodes need in that layer\n",
    "# here we have 10 nodes\n",
    "\n",
    "model.add(Dense(output_dim, input_dim=input_dim, activation='softmax'))"
   ]
  },
  {
   "cell_type": "code",
   "execution_count": 17,
   "metadata": {
    "colab": {
     "base_uri": "https://localhost:8080/",
     "height": 1000
    },
    "colab_type": "code",
    "id": "EVA11VpmQKbt",
    "outputId": "d2036dea-71e8-41bf-998a-7756375fdb54"
   },
   "outputs": [
    {
     "name": "stdout",
     "output_type": "stream",
     "text": [
      "WARNING:tensorflow:From /usr/local/lib/python3.6/dist-packages/keras/optimizers.py:793: The name tf.train.Optimizer is deprecated. Please use tf.compat.v1.train.Optimizer instead.\n",
      "\n",
      "WARNING:tensorflow:From /usr/local/lib/python3.6/dist-packages/keras/backend/tensorflow_backend.py:3576: The name tf.log is deprecated. Please use tf.math.log instead.\n",
      "\n",
      "WARNING:tensorflow:From /usr/local/lib/python3.6/dist-packages/tensorflow/python/ops/math_grad.py:1250: add_dispatch_support.<locals>.wrapper (from tensorflow.python.ops.array_ops) is deprecated and will be removed in a future version.\n",
      "Instructions for updating:\n",
      "Use tf.where in 2.0, which has the same broadcast rule as np.where\n",
      "WARNING:tensorflow:From /usr/local/lib/python3.6/dist-packages/keras/backend/tensorflow_backend.py:1033: The name tf.assign_add is deprecated. Please use tf.compat.v1.assign_add instead.\n",
      "\n",
      "Train on 60000 samples, validate on 10000 samples\n",
      "Epoch 1/30\n",
      "60000/60000 [==============================] - 6s 107us/step - loss: 1.2656 - acc: 0.7131 - val_loss: 0.8056 - val_acc: 0.8403\n",
      "Epoch 2/30\n",
      "60000/60000 [==============================] - 1s 24us/step - loss: 0.7086 - acc: 0.8460 - val_loss: 0.6039 - val_acc: 0.8658\n",
      "Epoch 3/30\n",
      "60000/60000 [==============================] - 1s 24us/step - loss: 0.5824 - acc: 0.8627 - val_loss: 0.5233 - val_acc: 0.8750\n",
      "Epoch 4/30\n",
      "60000/60000 [==============================] - 1s 25us/step - loss: 0.5222 - acc: 0.8709 - val_loss: 0.4781 - val_acc: 0.8810\n",
      "Epoch 5/30\n",
      "60000/60000 [==============================] - 1s 24us/step - loss: 0.4853 - acc: 0.8760 - val_loss: 0.4487 - val_acc: 0.8856\n",
      "Epoch 6/30\n",
      "60000/60000 [==============================] - 1s 24us/step - loss: 0.4600 - acc: 0.8803 - val_loss: 0.4279 - val_acc: 0.8883\n",
      "Epoch 7/30\n",
      "60000/60000 [==============================] - 2s 25us/step - loss: 0.4412 - acc: 0.8840 - val_loss: 0.4117 - val_acc: 0.8925\n",
      "Epoch 8/30\n",
      "60000/60000 [==============================] - 1s 24us/step - loss: 0.4265 - acc: 0.8868 - val_loss: 0.3991 - val_acc: 0.8934\n",
      "Epoch 9/30\n",
      "60000/60000 [==============================] - 1s 24us/step - loss: 0.4146 - acc: 0.8893 - val_loss: 0.3891 - val_acc: 0.8970\n",
      "Epoch 10/30\n",
      "60000/60000 [==============================] - 1s 24us/step - loss: 0.4048 - acc: 0.8916 - val_loss: 0.3803 - val_acc: 0.8984\n",
      "Epoch 11/30\n",
      "60000/60000 [==============================] - 1s 24us/step - loss: 0.3964 - acc: 0.8931 - val_loss: 0.3731 - val_acc: 0.8999\n",
      "Epoch 12/30\n",
      "60000/60000 [==============================] - 1s 24us/step - loss: 0.3892 - acc: 0.8943 - val_loss: 0.3667 - val_acc: 0.9011\n",
      "Epoch 13/30\n",
      "60000/60000 [==============================] - 1s 24us/step - loss: 0.3829 - acc: 0.8959 - val_loss: 0.3611 - val_acc: 0.9034\n",
      "Epoch 14/30\n",
      "60000/60000 [==============================] - 1s 24us/step - loss: 0.3773 - acc: 0.8971 - val_loss: 0.3564 - val_acc: 0.9049\n",
      "Epoch 15/30\n",
      "60000/60000 [==============================] - 1s 25us/step - loss: 0.3723 - acc: 0.8982 - val_loss: 0.3519 - val_acc: 0.9062\n",
      "Epoch 16/30\n",
      "60000/60000 [==============================] - 1s 24us/step - loss: 0.3678 - acc: 0.8996 - val_loss: 0.3479 - val_acc: 0.9063\n",
      "Epoch 17/30\n",
      "60000/60000 [==============================] - 1s 24us/step - loss: 0.3638 - acc: 0.9000 - val_loss: 0.3442 - val_acc: 0.9075\n",
      "Epoch 18/30\n",
      "60000/60000 [==============================] - 1s 24us/step - loss: 0.3601 - acc: 0.9010 - val_loss: 0.3410 - val_acc: 0.9083\n",
      "Epoch 19/30\n",
      "60000/60000 [==============================] - 1s 24us/step - loss: 0.3567 - acc: 0.9015 - val_loss: 0.3381 - val_acc: 0.9091\n",
      "Epoch 20/30\n",
      "60000/60000 [==============================] - 1s 25us/step - loss: 0.3536 - acc: 0.9025 - val_loss: 0.3354 - val_acc: 0.9094\n",
      "Epoch 21/30\n",
      "60000/60000 [==============================] - 1s 24us/step - loss: 0.3506 - acc: 0.9031 - val_loss: 0.3331 - val_acc: 0.9108\n",
      "Epoch 22/30\n",
      "60000/60000 [==============================] - 1s 24us/step - loss: 0.3479 - acc: 0.9034 - val_loss: 0.3306 - val_acc: 0.9107\n",
      "Epoch 23/30\n",
      "60000/60000 [==============================] - 1s 24us/step - loss: 0.3454 - acc: 0.9042 - val_loss: 0.3286 - val_acc: 0.9107\n",
      "Epoch 24/30\n",
      "60000/60000 [==============================] - 1s 25us/step - loss: 0.3431 - acc: 0.9047 - val_loss: 0.3262 - val_acc: 0.9114\n",
      "Epoch 25/30\n",
      "60000/60000 [==============================] - 1s 24us/step - loss: 0.3409 - acc: 0.9054 - val_loss: 0.3246 - val_acc: 0.9112\n",
      "Epoch 26/30\n",
      "60000/60000 [==============================] - 1s 24us/step - loss: 0.3388 - acc: 0.9060 - val_loss: 0.3226 - val_acc: 0.9120\n",
      "Epoch 27/30\n",
      "60000/60000 [==============================] - 2s 25us/step - loss: 0.3368 - acc: 0.9063 - val_loss: 0.3214 - val_acc: 0.9122\n",
      "Epoch 28/30\n",
      "60000/60000 [==============================] - 1s 24us/step - loss: 0.3350 - acc: 0.9066 - val_loss: 0.3195 - val_acc: 0.9125\n",
      "Epoch 29/30\n",
      "60000/60000 [==============================] - 1s 24us/step - loss: 0.3332 - acc: 0.9072 - val_loss: 0.3181 - val_acc: 0.9128\n",
      "Epoch 30/30\n",
      "60000/60000 [==============================] - 1s 25us/step - loss: 0.3315 - acc: 0.9077 - val_loss: 0.3165 - val_acc: 0.9132\n"
     ]
    }
   ],
   "source": [
    "# Before training a model, you need to configure the learning process, which is done via the compile method\n",
    "\n",
    "# It receives three arguments:\n",
    "# An optimizer. This could be the string identifier of an existing optimizer , https://keras.io/optimizers/\n",
    "# A loss function. This is the objective that the model will try to minimize., https://keras.io/losses/\n",
    "# A list of metrics. For any classification problem you will want to set this to metrics=['accuracy'].  https://keras.io/metrics/\n",
    "\n",
    "\n",
    "# Note: when using the categorical_crossentropy loss, your targets should be in categorical format \n",
    "# (e.g. if you have 10 classes, the target for each sample should be a 10-dimensional vector that is all-zeros except \n",
    "# for a 1 at the index corresponding to the class of the sample).\n",
    "\n",
    "# that is why we converted out labels into vectors\n",
    "\n",
    "model.compile(optimizer='sgd', loss='categorical_crossentropy', metrics=['accuracy'])\n",
    "\n",
    "# Keras models are trained on Numpy arrays of input data and labels. \n",
    "# For training a model, you will typically use the  fit function\n",
    "\n",
    "# fit(self, x=None, y=None, batch_size=None, epochs=1, verbose=1, callbacks=None, validation_split=0.0, \n",
    "# validation_data=None, shuffle=True, class_weight=None, sample_weight=None, initial_epoch=0, steps_per_epoch=None, \n",
    "# validation_steps=None)\n",
    "\n",
    "# fit() function Trains the model for a fixed number of epochs (iterations on a dataset).\n",
    "\n",
    "# it returns A History object. Its History.history attribute is a record of training loss values and \n",
    "# metrics values at successive epochs, as well as validation loss values and validation metrics values (if applicable).\n",
    "\n",
    "# https://github.com/openai/baselines/issues/20\n",
    "\n",
    "history = model.fit(X_train, Y_train, batch_size=batch_size, epochs=nb_epoch, verbose=1, validation_data=(X_test, Y_test)) \n"
   ]
  },
  {
   "cell_type": "code",
   "execution_count": 18,
   "metadata": {
    "colab": {
     "base_uri": "https://localhost:8080/",
     "height": 318
    },
    "colab_type": "code",
    "id": "HNpwTMHcQKbw",
    "outputId": "19de5620-0cf8-4435-cf2d-a7e34158bd2e"
   },
   "outputs": [
    {
     "name": "stdout",
     "output_type": "stream",
     "text": [
      "Test score: 0.3165304104745388\n",
      "Test accuracy: 0.9132\n"
     ]
    },
    {
     "data": {
      "image/png": "[encoded data removed]",
      "text/plain": [
       "<Figure size 432x288 with 1 Axes>"
      ]
     },
     "metadata": {
      "tags": []
     },
     "output_type": "display_data"
    }
   ],
   "source": [
    "score = model.evaluate(X_test, Y_test, verbose=0) \n",
    "print('Test score:', score[0]) \n",
    "print('Test accuracy:', score[1])\n",
    "\n",
    "fig,ax = plt.subplots(1,1)\n",
    "ax.set_xlabel('epoch') ; ax.set_ylabel('Categorical Crossentropy Loss')\n",
    "\n",
    "# list of epoch numbers\n",
    "x = list(range(1,nb_epoch+1))\n",
    "\n",
    "# print(history.history.keys())\n",
    "# dict_keys(['val_loss', 'val_acc', 'loss', 'acc'])\n",
    "# history = model_drop.fit(X_train, Y_train, batch_size=batch_size, epochs=nb_epoch, verbose=1, validation_data=(X_test, Y_test))\n",
    "\n",
    "# we will get val_loss and val_acc only when you pass the paramter validation_data\n",
    "# val_loss : validation loss\n",
    "# val_acc : validation accuracy\n",
    "\n",
    "# loss : training loss\n",
    "# acc : train accuracy\n",
    "# for each key in histrory.histrory we will have a list of length equal to number of epochs\n",
    "\n",
    "vy = history.history['val_loss']\n",
    "ty = history.history['loss']\n",
    "plt_dynamic(x, vy, ty, ax)"
   ]
  },
  {
   "cell_type": "code",
   "execution_count": 19,
   "metadata": {
    "colab": {
     "base_uri": "https://localhost:8080/",
     "height": 52
    },
    "colab_type": "code",
    "id": "HM4wuu-QbIaO",
    "outputId": "e4ba2735-637e-4723-91dc-cb8d3ee55af6"
   },
   "outputs": [
    {
     "name": "stdout",
     "output_type": "stream",
     "text": [
      "Train score: 0.33035434688329696\n",
      "Train accuracy: 0.90835\n"
     ]
    }
   ],
   "source": [
    "score1 = model.evaluate(X_train, Y_train, verbose=0) \n",
    "print('Train score:', score1[0]) \n",
    "print('Train accuracy:', score1[1])"
   ]
  },
  {
   "cell_type": "markdown",
   "metadata": {
    "colab_type": "text",
    "id": "9ccmfiVGQKcc"
   },
   "source": [
    "<h2> MLP + ReLU + ADAM </h2>"
   ]
  },
  {
   "cell_type": "markdown",
   "metadata": {
    "colab_type": "text",
    "id": "AHWNGu8Jbf8a"
   },
   "source": [
    "# 5. Two Hidden layers (input = 784,number of neurons in layer 1 = 512,number of neurons in layer 2 = 128,output = 10"
   ]
  },
  {
   "cell_type": "markdown",
   "metadata": {},
   "source": [
    "1. Number of neurons here are activation functions.\n",
    "2. Here activation function used is 'relu' and optimizer used is 'adam'.\n",
    "3. Number of epochs is 40 and Batch_size is 128.\n",
    "4. We used our metric as 'accuracy'."
   ]
  },
  {
   "cell_type": "code",
   "execution_count": 20,
   "metadata": {
    "colab": {
     "base_uri": "https://localhost:8080/",
     "height": 1000
    },
    "colab_type": "code",
    "id": "-CtwrinkQKcc",
    "outputId": "9b52b45f-51b1-4ba3-c12f-bf3ecc55746e"
   },
   "outputs": [
    {
     "name": "stdout",
     "output_type": "stream",
     "text": [
      "Model: \"sequential_2\"\n",
      "_________________________________________________________________\n",
      "Layer (type)                 Output Shape              Param #   \n",
      "=================================================================\n",
      "dense_2 (Dense)              (None, 512)               401920    \n",
      "_________________________________________________________________\n",
      "dense_3 (Dense)              (None, 128)               65664     \n",
      "_________________________________________________________________\n",
      "dense_4 (Dense)              (None, 10)                1290      \n",
      "=================================================================\n",
      "Total params: 468,874\n",
      "Trainable params: 468,874\n",
      "Non-trainable params: 0\n",
      "_________________________________________________________________\n",
      "None\n",
      "Train on 60000 samples, validate on 10000 samples\n",
      "Epoch 1/40\n",
      "60000/60000 [==============================] - 2s 39us/step - loss: 0.2316 - acc: 0.9317 - val_loss: 0.1059 - val_acc: 0.9690\n",
      "Epoch 2/40\n",
      "60000/60000 [==============================] - 2s 33us/step - loss: 0.0862 - acc: 0.9740 - val_loss: 0.0794 - val_acc: 0.9762\n",
      "Epoch 3/40\n",
      "60000/60000 [==============================] - 2s 36us/step - loss: 0.0530 - acc: 0.9840 - val_loss: 0.0689 - val_acc: 0.9785\n",
      "Epoch 4/40\n",
      "60000/60000 [==============================] - 2s 34us/step - loss: 0.0374 - acc: 0.9883 - val_loss: 0.0620 - val_acc: 0.9810\n",
      "Epoch 5/40\n",
      "60000/60000 [==============================] - 2s 33us/step - loss: 0.0260 - acc: 0.9919 - val_loss: 0.0664 - val_acc: 0.9797\n",
      "Epoch 6/40\n",
      "60000/60000 [==============================] - 2s 34us/step - loss: 0.0208 - acc: 0.9934 - val_loss: 0.0725 - val_acc: 0.9807\n",
      "Epoch 7/40\n",
      "60000/60000 [==============================] - 2s 33us/step - loss: 0.0186 - acc: 0.9938 - val_loss: 0.0732 - val_acc: 0.9799\n",
      "Epoch 8/40\n",
      "60000/60000 [==============================] - 2s 34us/step - loss: 0.0154 - acc: 0.9947 - val_loss: 0.0932 - val_acc: 0.9771\n",
      "Epoch 9/40\n",
      "60000/60000 [==============================] - 2s 34us/step - loss: 0.0121 - acc: 0.9961 - val_loss: 0.0843 - val_acc: 0.9799\n",
      "Epoch 10/40\n",
      "60000/60000 [==============================] - 2s 35us/step - loss: 0.0094 - acc: 0.9970 - val_loss: 0.0795 - val_acc: 0.9800\n",
      "Epoch 11/40\n",
      "60000/60000 [==============================] - 2s 34us/step - loss: 0.0100 - acc: 0.9970 - val_loss: 0.0860 - val_acc: 0.9800\n",
      "Epoch 12/40\n",
      "60000/60000 [==============================] - 2s 33us/step - loss: 0.0136 - acc: 0.9950 - val_loss: 0.0929 - val_acc: 0.9767\n",
      "Epoch 13/40\n",
      "60000/60000 [==============================] - 2s 33us/step - loss: 0.0093 - acc: 0.9968 - val_loss: 0.0880 - val_acc: 0.9798\n",
      "Epoch 14/40\n",
      "60000/60000 [==============================] - 2s 34us/step - loss: 0.0087 - acc: 0.9972 - val_loss: 0.0871 - val_acc: 0.9813\n",
      "Epoch 15/40\n",
      "60000/60000 [==============================] - 2s 32us/step - loss: 0.0082 - acc: 0.9974 - val_loss: 0.0884 - val_acc: 0.9796\n",
      "Epoch 16/40\n",
      "60000/60000 [==============================] - 2s 33us/step - loss: 0.0076 - acc: 0.9975 - val_loss: 0.0838 - val_acc: 0.9809\n",
      "Epoch 17/40\n",
      "60000/60000 [==============================] - 2s 34us/step - loss: 0.0077 - acc: 0.9977 - val_loss: 0.0812 - val_acc: 0.9832\n",
      "Epoch 18/40\n",
      "60000/60000 [==============================] - 2s 34us/step - loss: 0.0078 - acc: 0.9974 - val_loss: 0.0838 - val_acc: 0.9817\n",
      "Epoch 19/40\n",
      "60000/60000 [==============================] - 2s 34us/step - loss: 0.0079 - acc: 0.9975 - val_loss: 0.0859 - val_acc: 0.9814\n",
      "Epoch 20/40\n",
      "60000/60000 [==============================] - 2s 34us/step - loss: 0.0083 - acc: 0.9973 - val_loss: 0.0810 - val_acc: 0.9827\n",
      "Epoch 21/40\n",
      "60000/60000 [==============================] - 2s 33us/step - loss: 0.0068 - acc: 0.9981 - val_loss: 0.0891 - val_acc: 0.9822\n",
      "Epoch 22/40\n",
      "60000/60000 [==============================] - 2s 33us/step - loss: 0.0058 - acc: 0.9980 - val_loss: 0.0996 - val_acc: 0.9820\n",
      "Epoch 23/40\n",
      "60000/60000 [==============================] - 2s 33us/step - loss: 0.0069 - acc: 0.9978 - val_loss: 0.0907 - val_acc: 0.9825\n",
      "Epoch 24/40\n",
      "60000/60000 [==============================] - 2s 33us/step - loss: 0.0057 - acc: 0.9983 - val_loss: 0.0902 - val_acc: 0.9827\n",
      "Epoch 25/40\n",
      "60000/60000 [==============================] - 2s 34us/step - loss: 0.0062 - acc: 0.9981 - val_loss: 0.0864 - val_acc: 0.9841\n",
      "Epoch 26/40\n",
      "60000/60000 [==============================] - 2s 33us/step - loss: 0.0042 - acc: 0.9989 - val_loss: 0.0908 - val_acc: 0.9828\n",
      "Epoch 27/40\n",
      "60000/60000 [==============================] - 2s 32us/step - loss: 0.0037 - acc: 0.9989 - val_loss: 0.1155 - val_acc: 0.9799\n",
      "Epoch 28/40\n",
      "60000/60000 [==============================] - 2s 32us/step - loss: 0.0083 - acc: 0.9974 - val_loss: 0.0993 - val_acc: 0.9821\n",
      "Epoch 29/40\n",
      "60000/60000 [==============================] - 2s 35us/step - loss: 0.0044 - acc: 0.9986 - val_loss: 0.1206 - val_acc: 0.9796\n",
      "Epoch 30/40\n",
      "60000/60000 [==============================] - 2s 34us/step - loss: 0.0057 - acc: 0.9983 - val_loss: 0.1325 - val_acc: 0.9790\n",
      "Epoch 31/40\n",
      "60000/60000 [==============================] - 2s 33us/step - loss: 0.0049 - acc: 0.9985 - val_loss: 0.1109 - val_acc: 0.9808\n",
      "Epoch 32/40\n",
      "60000/60000 [==============================] - 2s 33us/step - loss: 0.0031 - acc: 0.9989 - val_loss: 0.0989 - val_acc: 0.9830\n",
      "Epoch 33/40\n",
      "60000/60000 [==============================] - 2s 34us/step - loss: 0.0041 - acc: 0.9988 - val_loss: 0.1228 - val_acc: 0.9800\n",
      "Epoch 34/40\n",
      "60000/60000 [==============================] - 2s 33us/step - loss: 0.0058 - acc: 0.9983 - val_loss: 0.1182 - val_acc: 0.9805\n",
      "Epoch 35/40\n",
      "60000/60000 [==============================] - 2s 33us/step - loss: 0.0057 - acc: 0.9984 - val_loss: 0.0861 - val_acc: 0.9862\n",
      "Epoch 36/40\n",
      "60000/60000 [==============================] - 2s 33us/step - loss: 0.0023 - acc: 0.9994 - val_loss: 0.1002 - val_acc: 0.9842\n",
      "Epoch 37/40\n",
      "60000/60000 [==============================] - 2s 33us/step - loss: 0.0042 - acc: 0.9988 - val_loss: 0.1130 - val_acc: 0.9825\n",
      "Epoch 38/40\n",
      "60000/60000 [==============================] - 2s 33us/step - loss: 0.0060 - acc: 0.9983 - val_loss: 0.0975 - val_acc: 0.9833\n",
      "Epoch 39/40\n",
      "60000/60000 [==============================] - 2s 33us/step - loss: 0.0030 - acc: 0.9991 - val_loss: 0.0960 - val_acc: 0.9854\n",
      "Epoch 40/40\n",
      "60000/60000 [==============================] - 2s 33us/step - loss: 9.6561e-04 - acc: 0.9998 - val_loss: 0.0916 - val_acc: 0.9857\n"
     ]
    }
   ],
   "source": [
    "import keras\n",
    "epochs1 = 40\n",
    "model_relu = Sequential()\n",
    "model_relu.add(Dense(512, activation='relu', input_shape=(input_dim,), kernel_initializer=keras.initializers.he_normal(seed=None)))\n",
    "model_relu.add(Dense(128, activation='relu', kernel_initializer=keras.initializers.he_normal(seed=None)) )\n",
    "model_relu.add(Dense(output_dim, activation='softmax'))\n",
    "\n",
    "print(model_relu.summary())\n",
    "\n",
    "model_relu.compile(optimizer='adam', loss='categorical_crossentropy', metrics=['accuracy'])\n",
    "\n",
    "history = model_relu.fit(X_train, Y_train, batch_size=batch_size, epochs=epochs1, verbose=1, validation_data=(X_test, Y_test))"
   ]
  },
  {
   "cell_type": "code",
   "execution_count": 21,
   "metadata": {
    "colab": {
     "base_uri": "https://localhost:8080/",
     "height": 372
    },
    "colab_type": "code",
    "id": "niCdh2TUQKce",
    "outputId": "4874dfd7-0144-4f24-dcc0-866052cda944"
   },
   "outputs": [
    {
     "name": "stdout",
     "output_type": "stream",
     "text": [
      "Train score: 0.0011970603236469894\n",
      "Train accuracy: 0.9997\n",
      "#############################################\n",
      "Test score: 0.09155446254908205\n",
      "Test accuracy: 0.9857\n"
     ]
    },
    {
     "data": {
      "image/png": "[encoded data removed]",
      "text/plain": [
       "<Figure size 432x288 with 1 Axes>"
      ]
     },
     "metadata": {
      "tags": []
     },
     "output_type": "display_data"
    }
   ],
   "source": [
    "score1 = model_relu.evaluate(X_train, Y_train, verbose=0) \n",
    "print('Train score:', score1[0]) \n",
    "print('Train accuracy:', score1[1])\n",
    "print(\"#############################################\")\n",
    "score = model_relu.evaluate(X_test, Y_test, verbose=0) \n",
    "print('Test score:', score[0]) \n",
    "print('Test accuracy:', score[1])\n",
    "\n",
    "fig,ax = plt.subplots(1,1)\n",
    "ax.set_xlabel('epoch') ; ax.set_ylabel('Categorical Crossentropy Loss')\n",
    "\n",
    "# list of epoch numbers\n",
    "x = list(range(1,epochs1+1))\n",
    "\n",
    "# print(history.history.keys())\n",
    "# dict_keys(['val_loss', 'val_acc', 'loss', 'acc'])\n",
    "# history = model_drop.fit(X_train, Y_train, batch_size=batch_size, epochs=nb_epoch, verbose=1, validation_data=(X_test, Y_test))\n",
    "\n",
    "# we will get val_loss and val_acc only when you pass the paramter validation_data\n",
    "# val_loss : validation loss\n",
    "# val_acc : validation accuracy\n",
    "\n",
    "# loss : training loss\n",
    "# acc : train accuracy\n",
    "# for each key in histrory.histrory we will have a list of length equal to number of epochs\n",
    "\n",
    "\n",
    "vy = history.history['val_loss']\n",
    "ty = history.history['loss']\n",
    "plt_dynamic(x, vy, ty, ax)"
   ]
  },
  {
   "cell_type": "code",
   "execution_count": 23,
   "metadata": {
    "colab": {
     "base_uri": "https://localhost:8080/",
     "height": 315
    },
    "colab_type": "code",
    "id": "PDtptoSnQKcf",
    "outputId": "69d19832-7df1-4e19-de50-dfd00400873c"
   },
   "outputs": [
    {
     "data": {
      "image/png": "[encoded data removed]",
      "text/plain": [
       "<Figure size 432x288 with 3 Axes>"
      ]
     },
     "metadata": {
      "tags": []
     },
     "output_type": "display_data"
    }
   ],
   "source": [
    "w_after = model_relu.get_weights()\n",
    "\n",
    "h1_w = w_after[0].flatten().reshape(-1,1)\n",
    "h2_w = w_after[2].flatten().reshape(-1,1)\n",
    "out_w = w_after[4].flatten().reshape(-1,1)\n",
    "\n",
    "\n",
    "fig = plt.figure()\n",
    "plt.title(\"Weight matrices after model trained\")\n",
    "plt.subplot(1, 3, 1)\n",
    "plt.title(\"Trained \\n model\\n Weights\")\n",
    "ax = sns.violinplot(y=h1_w,color='b')\n",
    "plt.xlabel('Hidden Layer 1')\n",
    "\n",
    "plt.subplot(1, 3, 2)\n",
    "plt.title(\"Trained \\n model \\n Weights\")\n",
    "ax = sns.violinplot(y=h2_w, color='r')\n",
    "plt.xlabel('Hidden Layer 2 ')\n",
    "\n",
    "plt.subplot(1, 3, 3)\n",
    "plt.title(\"Trained \\n model \\n Weights\")\n",
    "ax = sns.violinplot(y=out_w,color='y')\n",
    "plt.xlabel('Output Layer ')\n",
    "plt.show()"
   ]
  },
  {
   "cell_type": "markdown",
   "metadata": {
    "colab_type": "text",
    "id": "IWYP8-3pQKct"
   },
   "source": [
    "<h2> 5. MLP + Dropout + AdamOptimizer </h2>"
   ]
  },
  {
   "cell_type": "markdown",
   "metadata": {
    "colab_type": "text",
    "id": "4-Qi9KWMeggB"
   },
   "source": [
    "# 6. Two Hidden layers (input = 784,number of neurons in layer 1 = 512,number of neurons in layer 2 = 128,output = 10) with batch normalization and dropouts"
   ]
  },
  {
   "cell_type": "markdown",
   "metadata": {},
   "source": [
    "1. Number of neurons here are activation functions.\n",
    "2. Here activation function used is 'relu' and optimizer used is 'adam'.\n",
    "3. Number of epochs is 20 and Batch_size is 128.\n",
    "4. We used our metric as 'accuracy'.\n",
    "5. We used Batch normalization and dropout at Layer1 and Layer2.\n",
    "6. Dropout  rate is 0.5"
   ]
  },
  {
   "cell_type": "code",
   "execution_count": 24,
   "metadata": {
    "colab": {
     "base_uri": "https://localhost:8080/",
     "height": 481
    },
    "colab_type": "code",
    "id": "DJj0hu0-QKct",
    "outputId": "3ea6390b-2a31-435a-e08d-c6bf5c5ea28d"
   },
   "outputs": [
    {
     "name": "stdout",
     "output_type": "stream",
     "text": [
      "WARNING:tensorflow:From /usr/local/lib/python3.6/dist-packages/keras/backend/tensorflow_backend.py:3733: calling dropout (from tensorflow.python.ops.nn_ops) with keep_prob is deprecated and will be removed in a future version.\n",
      "Instructions for updating:\n",
      "Please use `rate` instead of `keep_prob`. Rate should be set to `rate = 1 - keep_prob`.\n",
      "Model: \"sequential_3\"\n",
      "_________________________________________________________________\n",
      "Layer (type)                 Output Shape              Param #   \n",
      "=================================================================\n",
      "dense_5 (Dense)              (None, 512)               401920    \n",
      "_________________________________________________________________\n",
      "batch_normalization_1 (Batch (None, 512)               2048      \n",
      "_________________________________________________________________\n",
      "dropout_1 (Dropout)          (None, 512)               0         \n",
      "_________________________________________________________________\n",
      "dense_6 (Dense)              (None, 128)               65664     \n",
      "_________________________________________________________________\n",
      "batch_normalization_2 (Batch (None, 128)               512       \n",
      "_________________________________________________________________\n",
      "dropout_2 (Dropout)          (None, 128)               0         \n",
      "_________________________________________________________________\n",
      "dense_7 (Dense)              (None, 10)                1290      \n",
      "=================================================================\n",
      "Total params: 471,434\n",
      "Trainable params: 470,154\n",
      "Non-trainable params: 1,280\n",
      "_________________________________________________________________\n"
     ]
    }
   ],
   "source": [
    "# https://stackoverflow.com/questions/34716454/where-do-i-call-the-batchnormalization-function-in-keras\n",
    "\n",
    "from keras.layers.normalization import BatchNormalization\n",
    "from keras.layers import Dropout\n",
    "\n",
    "\n",
    "model_drop = Sequential()\n",
    "\n",
    "model_drop.add(Dense(512, activation='relu', input_shape=(input_dim,), kernel_initializer=keras.initializers.he_uniform(seed=None)))\n",
    "model_drop.add(BatchNormalization())\n",
    "model_drop.add(Dropout(0.5))\n",
    "\n",
    "model_drop.add(Dense(128, activation='relu', kernel_initializer=keras.initializers.he_uniform(seed=None)) )\n",
    "model_drop.add(BatchNormalization())\n",
    "model_drop.add(Dropout(0.5))\n",
    "\n",
    "model_drop.add(Dense(output_dim, activation='softmax'))\n",
    "\n",
    "\n",
    "model_drop.summary()"
   ]
  },
  {
   "cell_type": "code",
   "execution_count": 25,
   "metadata": {
    "colab": {
     "base_uri": "https://localhost:8080/",
     "height": 746
    },
    "colab_type": "code",
    "id": "J5pc4W_9QKcw",
    "outputId": "f9c475c2-b61e-4d27-aa3f-fbbfbe096694"
   },
   "outputs": [
    {
     "name": "stdout",
     "output_type": "stream",
     "text": [
      "Train on 60000 samples, validate on 10000 samples\n",
      "Epoch 1/20\n",
      "60000/60000 [==============================] - 4s 66us/step - loss: 0.4317 - acc: 0.8690 - val_loss: 0.1460 - val_acc: 0.9550\n",
      "Epoch 2/20\n",
      "60000/60000 [==============================] - 3s 56us/step - loss: 0.2082 - acc: 0.9378 - val_loss: 0.1039 - val_acc: 0.9673\n",
      "Epoch 3/20\n",
      "60000/60000 [==============================] - 3s 55us/step - loss: 0.1610 - acc: 0.9519 - val_loss: 0.0888 - val_acc: 0.9720\n",
      "Epoch 4/20\n",
      "60000/60000 [==============================] - 3s 55us/step - loss: 0.1389 - acc: 0.9579 - val_loss: 0.0779 - val_acc: 0.9747\n",
      "Epoch 5/20\n",
      "60000/60000 [==============================] - 3s 55us/step - loss: 0.1226 - acc: 0.9623 - val_loss: 0.0718 - val_acc: 0.9769\n",
      "Epoch 6/20\n",
      "60000/60000 [==============================] - 3s 55us/step - loss: 0.1105 - acc: 0.9658 - val_loss: 0.0699 - val_acc: 0.9783\n",
      "Epoch 7/20\n",
      "60000/60000 [==============================] - 3s 55us/step - loss: 0.0981 - acc: 0.9695 - val_loss: 0.0658 - val_acc: 0.9785\n",
      "Epoch 8/20\n",
      "60000/60000 [==============================] - 3s 55us/step - loss: 0.0922 - acc: 0.9710 - val_loss: 0.0659 - val_acc: 0.9784\n",
      "Epoch 9/20\n",
      "60000/60000 [==============================] - 3s 54us/step - loss: 0.0877 - acc: 0.9725 - val_loss: 0.0654 - val_acc: 0.9803\n",
      "Epoch 10/20\n",
      "60000/60000 [==============================] - 3s 55us/step - loss: 0.0809 - acc: 0.9753 - val_loss: 0.0647 - val_acc: 0.9792\n",
      "Epoch 11/20\n",
      "60000/60000 [==============================] - 3s 55us/step - loss: 0.0774 - acc: 0.9755 - val_loss: 0.0571 - val_acc: 0.9807\n",
      "Epoch 12/20\n",
      "60000/60000 [==============================] - 3s 55us/step - loss: 0.0741 - acc: 0.9766 - val_loss: 0.0552 - val_acc: 0.9822\n",
      "Epoch 13/20\n",
      "60000/60000 [==============================] - 3s 55us/step - loss: 0.0701 - acc: 0.9776 - val_loss: 0.0582 - val_acc: 0.9817\n",
      "Epoch 14/20\n",
      "60000/60000 [==============================] - 3s 54us/step - loss: 0.0663 - acc: 0.9791 - val_loss: 0.0550 - val_acc: 0.9827\n",
      "Epoch 15/20\n",
      "60000/60000 [==============================] - 3s 54us/step - loss: 0.0643 - acc: 0.9794 - val_loss: 0.0631 - val_acc: 0.9809\n",
      "Epoch 16/20\n",
      "60000/60000 [==============================] - 3s 55us/step - loss: 0.0602 - acc: 0.9806 - val_loss: 0.0620 - val_acc: 0.9802\n",
      "Epoch 17/20\n",
      "60000/60000 [==============================] - 3s 56us/step - loss: 0.0616 - acc: 0.9801 - val_loss: 0.0564 - val_acc: 0.9827\n",
      "Epoch 18/20\n",
      "60000/60000 [==============================] - 3s 55us/step - loss: 0.0566 - acc: 0.9824 - val_loss: 0.0573 - val_acc: 0.9827\n",
      "Epoch 19/20\n",
      "60000/60000 [==============================] - 3s 54us/step - loss: 0.0533 - acc: 0.9829 - val_loss: 0.0544 - val_acc: 0.9845\n",
      "Epoch 20/20\n",
      "60000/60000 [==============================] - 3s 54us/step - loss: 0.0543 - acc: 0.9821 - val_loss: 0.0570 - val_acc: 0.9827\n"
     ]
    }
   ],
   "source": [
    "epoch2 = 20\n",
    "model_drop.compile(optimizer='adam', loss='categorical_crossentropy', metrics=['accuracy'])\n",
    "\n",
    "history = model_drop.fit(X_train, Y_train, batch_size=batch_size, epochs=epoch2, verbose=1, validation_data=(X_test, Y_test))"
   ]
  },
  {
   "cell_type": "code",
   "execution_count": 26,
   "metadata": {
    "colab": {
     "base_uri": "https://localhost:8080/",
     "height": 372
    },
    "colab_type": "code",
    "id": "i5WcfQRFQKc0",
    "outputId": "28868baf-d145-488c-9924-82451d6a1769"
   },
   "outputs": [
    {
     "name": "stdout",
     "output_type": "stream",
     "text": [
      "Train score: 0.011504149301705183\n",
      "Train accuracy: 0.9963\n",
      "#############################################\n",
      "Test score: 0.056958603417154516\n",
      "Test accuracy: 0.9827\n"
     ]
    },
    {
     "data": {
      "image/png": "[encoded data removed]",
      "text/plain": [
       "<Figure size 432x288 with 1 Axes>"
      ]
     },
     "metadata": {
      "tags": []
     },
     "output_type": "display_data"
    }
   ],
   "source": [
    "score1 = model_drop.evaluate(X_train, Y_train, verbose=0) \n",
    "print('Train score:', score1[0]) \n",
    "print('Train accuracy:', score1[1])\n",
    "print(\"#############################################\")\n",
    "score = model_drop.evaluate(X_test, Y_test, verbose=0) \n",
    "print('Test score:', score[0]) \n",
    "print('Test accuracy:', score[1])\n",
    "\n",
    "fig,ax = plt.subplots(1,1)\n",
    "ax.set_xlabel('epoch') ; ax.set_ylabel('Categorical Crossentropy Loss')\n",
    "\n",
    "# list of epoch numbers\n",
    "x = list(range(1,epoch2+1))\n",
    "\n",
    "# print(history.history.keys())\n",
    "# dict_keys(['val_loss', 'val_acc', 'loss', 'acc'])\n",
    "# history = model_drop.fit(X_train, Y_train, batch_size=batch_size, epochs=nb_epoch, verbose=1, validation_data=(X_test, Y_test))\n",
    "\n",
    "# we will get val_loss and val_acc only when you pass the paramter validation_data\n",
    "# val_loss : validation loss\n",
    "# val_acc : validation accuracy\n",
    "\n",
    "# loss : training loss\n",
    "# acc : train accuracy\n",
    "# for each key in histrory.histrory we will have a list of length equal to number of epochs\n",
    "\n",
    "vy = history.history['val_loss']\n",
    "ty = history.history['loss']\n",
    "plt_dynamic(x, vy, ty, ax)"
   ]
  },
  {
   "cell_type": "code",
   "execution_count": 27,
   "metadata": {
    "colab": {
     "base_uri": "https://localhost:8080/",
     "height": 315
    },
    "colab_type": "code",
    "id": "U2N2u7xoQKc2",
    "outputId": "5fae315d-2828-4276-acfe-4d90a848efc4"
   },
   "outputs": [
    {
     "data": {
      "image/png": "[encoded data removed]",
      "text/plain": [
       "<Figure size 432x288 with 3 Axes>"
      ]
     },
     "metadata": {
      "tags": []
     },
     "output_type": "display_data"
    }
   ],
   "source": [
    "w_after = model_drop.get_weights()\n",
    "\n",
    "h1_w = w_after[0].flatten().reshape(-1,1)\n",
    "h2_w = w_after[2].flatten().reshape(-1,1)\n",
    "out_w = w_after[4].flatten().reshape(-1,1)\n",
    "\n",
    "\n",
    "fig = plt.figure()\n",
    "plt.title(\"Weight matrices after model trained\")\n",
    "plt.subplot(1, 3, 1)\n",
    "plt.title(\"Trained \\n model \\n Weights\")\n",
    "ax = sns.violinplot(y=h1_w,color='b')\n",
    "plt.xlabel('Hidden Layer 1')\n",
    "\n",
    "plt.subplot(1, 3, 2)\n",
    "plt.title(\"Trained \\n model \\n Weights\")\n",
    "ax = sns.violinplot(y=h2_w, color='r')\n",
    "plt.xlabel('Hidden Layer 2 ')\n",
    "\n",
    "plt.subplot(1, 3, 3)\n",
    "plt.title(\"Trained \\n model \\n Weights\")\n",
    "ax = sns.violinplot(y=out_w,color='y')\n",
    "plt.xlabel('Output Layer ')\n",
    "plt.show()"
   ]
  },
  {
   "cell_type": "markdown",
   "metadata": {
    "colab_type": "text",
    "id": "-d9rVJYJtt_l"
   },
   "source": [
    "# 7. Three Hidden layers (input = 784,number of neurons in layer 1 = 400,number of neurons in layer 2 = 300,number of neurons in layer 3 = 200,output = 10)"
   ]
  },
  {
   "cell_type": "markdown",
   "metadata": {},
   "source": [
    "1. Number of neurons here are activation functions.\n",
    "2. Here activation function used is 'relu' and optimizer used is 'adam'.\n",
    "3. Number of epochs is 20 and Batch_size is 128.\n",
    "4. We used our metric as 'accuracy'."
   ]
  },
  {
   "cell_type": "code",
   "execution_count": 28,
   "metadata": {
    "colab": {
     "base_uri": "https://localhost:8080/",
     "height": 1000
    },
    "colab_type": "code",
    "id": "PSJVfVHstq10",
    "outputId": "67b85250-7ec2-4b6f-98e4-a505e68b7b24"
   },
   "outputs": [
    {
     "name": "stdout",
     "output_type": "stream",
     "text": [
      "Model: \"sequential_4\"\n",
      "_________________________________________________________________\n",
      "Layer (type)                 Output Shape              Param #   \n",
      "=================================================================\n",
      "dense_8 (Dense)              (None, 400)               314000    \n",
      "_________________________________________________________________\n",
      "dense_9 (Dense)              (None, 300)               120300    \n",
      "_________________________________________________________________\n",
      "dense_10 (Dense)             (None, 200)               60200     \n",
      "_________________________________________________________________\n",
      "dense_11 (Dense)             (None, 10)                2010      \n",
      "=================================================================\n",
      "Total params: 496,510\n",
      "Trainable params: 496,510\n",
      "Non-trainable params: 0\n",
      "_________________________________________________________________\n",
      "None\n",
      "Train on 60000 samples, validate on 10000 samples\n",
      "Epoch 1/20\n",
      "60000/60000 [==============================] - 3s 43us/step - loss: 0.2204 - acc: 0.9349 - val_loss: 0.1051 - val_acc: 0.9668\n",
      "Epoch 2/20\n",
      "60000/60000 [==============================] - 2s 36us/step - loss: 0.0815 - acc: 0.9746 - val_loss: 0.0799 - val_acc: 0.9742\n",
      "Epoch 3/20\n",
      "60000/60000 [==============================] - 2s 37us/step - loss: 0.0532 - acc: 0.9830 - val_loss: 0.0736 - val_acc: 0.9783\n",
      "Epoch 4/20\n",
      "60000/60000 [==============================] - 2s 38us/step - loss: 0.0409 - acc: 0.9868 - val_loss: 0.0704 - val_acc: 0.9803\n",
      "Epoch 5/20\n",
      "60000/60000 [==============================] - 2s 37us/step - loss: 0.0283 - acc: 0.9909 - val_loss: 0.0800 - val_acc: 0.9765\n",
      "Epoch 6/20\n",
      "60000/60000 [==============================] - 2s 39us/step - loss: 0.0240 - acc: 0.9924 - val_loss: 0.0800 - val_acc: 0.9774\n",
      "Epoch 7/20\n",
      "60000/60000 [==============================] - 2s 38us/step - loss: 0.0216 - acc: 0.9932 - val_loss: 0.0658 - val_acc: 0.9830\n",
      "Epoch 8/20\n",
      "60000/60000 [==============================] - 2s 38us/step - loss: 0.0174 - acc: 0.9942 - val_loss: 0.0970 - val_acc: 0.9763\n",
      "Epoch 9/20\n",
      "60000/60000 [==============================] - 2s 37us/step - loss: 0.0200 - acc: 0.9934 - val_loss: 0.1064 - val_acc: 0.9749\n",
      "Epoch 10/20\n",
      "60000/60000 [==============================] - 2s 37us/step - loss: 0.0137 - acc: 0.9953 - val_loss: 0.0935 - val_acc: 0.9772\n",
      "Epoch 11/20\n",
      "60000/60000 [==============================] - 2s 37us/step - loss: 0.0173 - acc: 0.9947 - val_loss: 0.0787 - val_acc: 0.9807\n",
      "Epoch 12/20\n",
      "60000/60000 [==============================] - 2s 36us/step - loss: 0.0134 - acc: 0.9957 - val_loss: 0.0938 - val_acc: 0.9787\n",
      "Epoch 13/20\n",
      "60000/60000 [==============================] - 2s 36us/step - loss: 0.0129 - acc: 0.9958 - val_loss: 0.0871 - val_acc: 0.9798\n",
      "Epoch 14/20\n",
      "60000/60000 [==============================] - 2s 37us/step - loss: 0.0118 - acc: 0.9962 - val_loss: 0.0870 - val_acc: 0.9790\n",
      "Epoch 15/20\n",
      "60000/60000 [==============================] - 2s 37us/step - loss: 0.0111 - acc: 0.9963 - val_loss: 0.0827 - val_acc: 0.9815\n",
      "Epoch 16/20\n",
      "60000/60000 [==============================] - 2s 37us/step - loss: 0.0100 - acc: 0.9969 - val_loss: 0.0908 - val_acc: 0.9807\n",
      "Epoch 17/20\n",
      "60000/60000 [==============================] - 2s 37us/step - loss: 0.0119 - acc: 0.9964 - val_loss: 0.0813 - val_acc: 0.9820\n",
      "Epoch 18/20\n",
      "60000/60000 [==============================] - 2s 38us/step - loss: 0.0098 - acc: 0.9972 - val_loss: 0.1216 - val_acc: 0.9754\n",
      "Epoch 19/20\n",
      "60000/60000 [==============================] - 2s 36us/step - loss: 0.0109 - acc: 0.9965 - val_loss: 0.0924 - val_acc: 0.9812\n",
      "Epoch 20/20\n",
      "60000/60000 [==============================] - 2s 36us/step - loss: 0.0074 - acc: 0.9978 - val_loss: 0.0914 - val_acc: 0.9818\n"
     ]
    }
   ],
   "source": [
    "epochs3 = 20\n",
    "model_relu = Sequential()\n",
    "model_relu.add(Dense(400, activation='relu', input_shape=(input_dim,), kernel_initializer=keras.initializers.he_normal(seed=None)))\n",
    "model_relu.add(Dense(300, activation='relu', kernel_initializer=keras.initializers.he_normal(seed=None)))\n",
    "model_relu.add(Dense(200, activation='relu', kernel_initializer=keras.initializers.he_normal(seed=None)))\n",
    "model_relu.add(Dense(output_dim, activation='softmax'))\n",
    "\n",
    "print(model_relu.summary())\n",
    "\n",
    "model_relu.compile(optimizer='adam', loss='categorical_crossentropy', metrics=['accuracy'])\n",
    "\n",
    "history = model_relu.fit(X_train, Y_train, batch_size=batch_size, epochs=epochs3, verbose=1, validation_data=(X_test, Y_test))"
   ]
  },
  {
   "cell_type": "code",
   "execution_count": 29,
   "metadata": {
    "colab": {
     "base_uri": "https://localhost:8080/",
     "height": 372
    },
    "colab_type": "code",
    "id": "VsDgZ534tq-J",
    "outputId": "5e68d6ba-1d3c-48c1-ee06-fa7408f46d01"
   },
   "outputs": [
    {
     "name": "stdout",
     "output_type": "stream",
     "text": [
      "Train score: 0.006188314759214101\n",
      "Train accuracy: 0.9981166666666667\n",
      "#############################################\n",
      "Test score: 0.09144958206801962\n",
      "Test accuracy: 0.9818\n"
     ]
    },
    {
     "data": {
      "image/png": "[encoded data removed]",
      "text/plain": [
       "<Figure size 432x288 with 1 Axes>"
      ]
     },
     "metadata": {
      "tags": []
     },
     "output_type": "display_data"
    }
   ],
   "source": [
    "score1 = model_relu.evaluate(X_train, Y_train, verbose=0) \n",
    "print('Train score:', score1[0]) \n",
    "print('Train accuracy:', score1[1])\n",
    "print(\"#############################################\")\n",
    "score = model_relu.evaluate(X_test, Y_test, verbose=0) \n",
    "print('Test score:', score[0]) \n",
    "print('Test accuracy:', score[1])\n",
    "\n",
    "fig,ax = plt.subplots(1,1)\n",
    "ax.set_xlabel('epoch') ; ax.set_ylabel('Categorical Crossentropy Loss')\n",
    "\n",
    "# list of epoch numbers\n",
    "x = list(range(1,epochs3+1))\n",
    "\n",
    "# print(history.history.keys())\n",
    "# dict_keys(['val_loss', 'val_acc', 'loss', 'acc'])\n",
    "# history = model_drop.fit(X_train, Y_train, batch_size=batch_size, epochs=nb_epoch, verbose=1, validation_data=(X_test, Y_test))\n",
    "\n",
    "# we will get val_loss and val_acc only when you pass the paramter validation_data\n",
    "# val_loss : validation loss\n",
    "# val_acc : validation accuracy\n",
    "\n",
    "# loss : training loss\n",
    "# acc : train accuracy\n",
    "# for each key in histrory.histrory we will have a list of length equal to number of epochs\n",
    "\n",
    "\n",
    "vy = history.history['val_loss']\n",
    "ty = history.history['loss']\n",
    "plt_dynamic(x, vy, ty, ax)"
   ]
  },
  {
   "cell_type": "code",
   "execution_count": 30,
   "metadata": {
    "colab": {
     "base_uri": "https://localhost:8080/",
     "height": 315
    },
    "colab_type": "code",
    "id": "8z_LqmoItrFn",
    "outputId": "1b355c26-8176-4dc0-c78b-3957ab16c3d5"
   },
   "outputs": [
    {
     "data": {
      "image/png": "[encoded data removed]",
      "text/plain": [
       "<Figure size 432x288 with 4 Axes>"
      ]
     },
     "metadata": {
      "tags": []
     },
     "output_type": "display_data"
    }
   ],
   "source": [
    "w_after = model_relu.get_weights()\n",
    "\n",
    "h1_w = w_after[0].flatten().reshape(-1,1)\n",
    "h2_w = w_after[2].flatten().reshape(-1,1)\n",
    "h3_w = w_after[4].flatten().reshape(-1,1)\n",
    "out_w = w_after[6].flatten().reshape(-1,1)\n",
    "\n",
    "\n",
    "fig = plt.figure()\n",
    "plt.title(\"Weight matrices after model trained\")\n",
    "plt.subplot(1, 4, 1)\n",
    "plt.title(\"Trained \\n model \\n Weights\")\n",
    "ax = sns.violinplot(y=h1_w,color='b')\n",
    "plt.xlabel('Hidden Layer 1')\n",
    "\n",
    "plt.subplot(1, 4, 2)\n",
    "plt.title(\"Trained \\n model \\n Weights\")\n",
    "ax = sns.violinplot(y=h2_w, color='r')\n",
    "plt.xlabel('Hidden Layer 2 ')\n",
    "\n",
    "plt.subplot(1, 4, 3)\n",
    "plt.title(\"Trained \\n model \\n Weights\")\n",
    "ax = sns.violinplot(y=h3_w, color='g')\n",
    "plt.xlabel('Hidden Layer 3 ')\n",
    "\n",
    "plt.subplot(1, 4, 4)\n",
    "plt.title(\"Trained \\n model \\n Weights\")\n",
    "ax = sns.violinplot(y=out_w,color='y')\n",
    "plt.xlabel('Output Layer ')\n",
    "plt.show()"
   ]
  },
  {
   "cell_type": "markdown",
   "metadata": {
    "colab_type": "text",
    "id": "Chu-eQfuv0TH"
   },
   "source": [
    "# 8. Three Hidden layers (input = 784,number of neurons in layer 1 = 400,number of neurons in layer 2 = 300,number of neurons in layer 3 = 200,output = 10) with batch normalization and dropout"
   ]
  },
  {
   "cell_type": "markdown",
   "metadata": {},
   "source": [
    "1. Number of neurons here are activation functions.\n",
    "2. Here activation function used is 'relu' and optimizer used is 'adam'.\n",
    "3. Number of epochs is 20 and Batch_size is 128.\n",
    "4. We used our metric as 'accuracy'.\n",
    "5. We used Batch normalization and dropout at Layer2 and Layer3.\n",
    "6. Dropout  rate is 0.5"
   ]
  },
  {
   "cell_type": "code",
   "execution_count": 31,
   "metadata": {
    "colab": {
     "base_uri": "https://localhost:8080/",
     "height": 444
    },
    "colab_type": "code",
    "id": "B7MtjzjqtrL_",
    "outputId": "e79ff698-a358-4780-9a3e-998aff56fdec"
   },
   "outputs": [
    {
     "name": "stdout",
     "output_type": "stream",
     "text": [
      "Model: \"sequential_5\"\n",
      "_________________________________________________________________\n",
      "Layer (type)                 Output Shape              Param #   \n",
      "=================================================================\n",
      "dense_12 (Dense)             (None, 400)               314000    \n",
      "_________________________________________________________________\n",
      "dense_13 (Dense)             (None, 300)               120300    \n",
      "_________________________________________________________________\n",
      "batch_normalization_3 (Batch (None, 300)               1200      \n",
      "_________________________________________________________________\n",
      "dropout_3 (Dropout)          (None, 300)               0         \n",
      "_________________________________________________________________\n",
      "dense_14 (Dense)             (None, 200)               60200     \n",
      "_________________________________________________________________\n",
      "batch_normalization_4 (Batch (None, 200)               800       \n",
      "_________________________________________________________________\n",
      "dropout_4 (Dropout)          (None, 200)               0         \n",
      "_________________________________________________________________\n",
      "dense_15 (Dense)             (None, 10)                2010      \n",
      "=================================================================\n",
      "Total params: 498,510\n",
      "Trainable params: 497,510\n",
      "Non-trainable params: 1,000\n",
      "_________________________________________________________________\n"
     ]
    }
   ],
   "source": [
    "model_drop = Sequential()\n",
    "\n",
    "model_drop.add(Dense(400, activation='relu', input_shape=(input_dim,), kernel_initializer=keras.initializers.he_uniform(seed=None)))\n",
    "# model_drop.add(BatchNormalization())\n",
    "# model_drop.add(Dropout(0.5))\n",
    "\n",
    "model_drop.add(Dense(300, activation='relu', kernel_initializer=keras.initializers.he_uniform(seed=None)) )\n",
    "model_drop.add(BatchNormalization())\n",
    "model_drop.add(Dropout(0.5))\n",
    "\n",
    "model_drop.add(Dense(200, activation='relu', kernel_initializer=keras.initializers.he_uniform(seed=None)) )\n",
    "model_drop.add(BatchNormalization())\n",
    "model_drop.add(Dropout(0.5))\n",
    "\n",
    "model_drop.add(Dense(output_dim, activation='softmax'))\n",
    "\n",
    "\n",
    "model_drop.summary()"
   ]
  },
  {
   "cell_type": "code",
   "execution_count": 32,
   "metadata": {
    "colab": {
     "base_uri": "https://localhost:8080/",
     "height": 746
    },
    "colab_type": "code",
    "id": "gsl_Dinutrga",
    "outputId": "69de09a6-8dd2-43e3-84e6-25cf71cfe2ea"
   },
   "outputs": [
    {
     "name": "stdout",
     "output_type": "stream",
     "text": [
      "Train on 60000 samples, validate on 10000 samples\n",
      "Epoch 1/20\n",
      "60000/60000 [==============================] - 4s 73us/step - loss: 0.4179 - acc: 0.8753 - val_loss: 0.1395 - val_acc: 0.9564\n",
      "Epoch 2/20\n",
      "60000/60000 [==============================] - 4s 60us/step - loss: 0.1670 - acc: 0.9496 - val_loss: 0.0982 - val_acc: 0.9683\n",
      "Epoch 3/20\n",
      "60000/60000 [==============================] - 4s 59us/step - loss: 0.1169 - acc: 0.9642 - val_loss: 0.0973 - val_acc: 0.9691\n",
      "Epoch 4/20\n",
      "60000/60000 [==============================] - 4s 60us/step - loss: 0.0901 - acc: 0.9726 - val_loss: 0.0831 - val_acc: 0.9745\n",
      "Epoch 5/20\n",
      "60000/60000 [==============================] - 3s 58us/step - loss: 0.0726 - acc: 0.9777 - val_loss: 0.0735 - val_acc: 0.9770\n",
      "Epoch 6/20\n",
      "60000/60000 [==============================] - 4s 59us/step - loss: 0.0618 - acc: 0.9813 - val_loss: 0.0882 - val_acc: 0.9750\n",
      "Epoch 7/20\n",
      "60000/60000 [==============================] - 4s 59us/step - loss: 0.0502 - acc: 0.9841 - val_loss: 0.0670 - val_acc: 0.9818\n",
      "Epoch 8/20\n",
      "60000/60000 [==============================] - 3s 58us/step - loss: 0.0464 - acc: 0.9853 - val_loss: 0.0881 - val_acc: 0.9773\n",
      "Epoch 9/20\n",
      "60000/60000 [==============================] - 4s 59us/step - loss: 0.0415 - acc: 0.9870 - val_loss: 0.0668 - val_acc: 0.9822\n",
      "Epoch 10/20\n",
      "60000/60000 [==============================] - 3s 58us/step - loss: 0.0364 - acc: 0.9887 - val_loss: 0.0769 - val_acc: 0.9793\n",
      "Epoch 11/20\n",
      "60000/60000 [==============================] - 4s 59us/step - loss: 0.0327 - acc: 0.9896 - val_loss: 0.0747 - val_acc: 0.9815\n",
      "Epoch 12/20\n",
      "60000/60000 [==============================] - 4s 59us/step - loss: 0.0283 - acc: 0.9911 - val_loss: 0.0731 - val_acc: 0.9806\n",
      "Epoch 13/20\n",
      "60000/60000 [==============================] - 4s 60us/step - loss: 0.0237 - acc: 0.9923 - val_loss: 0.0815 - val_acc: 0.9800\n",
      "Epoch 14/20\n",
      "60000/60000 [==============================] - 3s 58us/step - loss: 0.0248 - acc: 0.9918 - val_loss: 0.0713 - val_acc: 0.9815\n",
      "Epoch 15/20\n",
      "60000/60000 [==============================] - 4s 59us/step - loss: 0.0215 - acc: 0.9934 - val_loss: 0.1002 - val_acc: 0.9772\n",
      "Epoch 16/20\n",
      "60000/60000 [==============================] - 4s 60us/step - loss: 0.0211 - acc: 0.9933 - val_loss: 0.0793 - val_acc: 0.9815\n",
      "Epoch 17/20\n",
      "60000/60000 [==============================] - 4s 59us/step - loss: 0.0174 - acc: 0.9943 - val_loss: 0.0771 - val_acc: 0.9825\n",
      "Epoch 18/20\n",
      "60000/60000 [==============================] - 4s 61us/step - loss: 0.0162 - acc: 0.9948 - val_loss: 0.0781 - val_acc: 0.9817\n",
      "Epoch 19/20\n",
      "60000/60000 [==============================] - 3s 57us/step - loss: 0.0148 - acc: 0.9950 - val_loss: 0.0837 - val_acc: 0.9811\n",
      "Epoch 20/20\n",
      "60000/60000 [==============================] - 3s 58us/step - loss: 0.0164 - acc: 0.9944 - val_loss: 0.0849 - val_acc: 0.9805\n"
     ]
    }
   ],
   "source": [
    "epoch4 = 20\n",
    "model_drop.compile(optimizer='adam', loss='categorical_crossentropy', metrics=['accuracy'])\n",
    "\n",
    "history = model_drop.fit(X_train, Y_train, batch_size=batch_size, epochs=epoch4, verbose=1, validation_data=(X_test, Y_test))"
   ]
  },
  {
   "cell_type": "code",
   "execution_count": 33,
   "metadata": {
    "colab": {
     "base_uri": "https://localhost:8080/",
     "height": 372
    },
    "colab_type": "code",
    "id": "MtBO5uZStrmU",
    "outputId": "18799b09-6f4a-4343-e706-ed19d46069de"
   },
   "outputs": [
    {
     "name": "stdout",
     "output_type": "stream",
     "text": [
      "Train score: 0.00532354728956622\n",
      "Train accuracy: 0.9979833333333333\n",
      "#############################################\n",
      "Test score: 0.08492160267545477\n",
      "Test accuracy: 0.9805\n"
     ]
    },
    {
     "data": {
      "image/png": "[encoded data removed]",
      "text/plain": [
       "<Figure size 432x288 with 1 Axes>"
      ]
     },
     "metadata": {
      "tags": []
     },
     "output_type": "display_data"
    }
   ],
   "source": [
    "score1 = model_drop.evaluate(X_train, Y_train, verbose=0) \n",
    "print('Train score:', score1[0]) \n",
    "print('Train accuracy:', score1[1])\n",
    "print(\"#############################################\")\n",
    "score = model_drop.evaluate(X_test, Y_test, verbose=0) \n",
    "print('Test score:', score[0]) \n",
    "print('Test accuracy:', score[1])\n",
    "\n",
    "fig,ax = plt.subplots(1,1)\n",
    "ax.set_xlabel('epoch') ; ax.set_ylabel('Categorical Crossentropy Loss')\n",
    "\n",
    "# list of epoch numbers\n",
    "x = list(range(1,epoch4+1))\n",
    "\n",
    "# print(history.history.keys())\n",
    "# dict_keys(['val_loss', 'val_acc', 'loss', 'acc'])\n",
    "# history = model_drop.fit(X_train, Y_train, batch_size=batch_size, epochs=nb_epoch, verbose=1, validation_data=(X_test, Y_test))\n",
    "\n",
    "# we will get val_loss and val_acc only when you pass the paramter validation_data\n",
    "# val_loss : validation loss\n",
    "# val_acc : validation accuracy\n",
    "\n",
    "# loss : training loss\n",
    "# acc : train accuracy\n",
    "# for each key in histrory.histrory we will have a list of length equal to number of epochs\n",
    "\n",
    "vy = history.history['val_loss']\n",
    "ty = history.history['loss']\n",
    "plt_dynamic(x, vy, ty, ax)"
   ]
  },
  {
   "cell_type": "code",
   "execution_count": 35,
   "metadata": {
    "colab": {
     "base_uri": "https://localhost:8080/",
     "height": 315
    },
    "colab_type": "code",
    "id": "amb3Hfkatr2p",
    "outputId": "8d1c9463-6625-458d-c399-73d3ba400bc6"
   },
   "outputs": [
    {
     "data": {
      "image/png": "[encoded data removed]",
      "text/plain": [
       "<Figure size 432x288 with 4 Axes>"
      ]
     },
     "metadata": {
      "tags": []
     },
     "output_type": "display_data"
    }
   ],
   "source": [
    "w_after = model_drop.get_weights()\n",
    "\n",
    "h1_w = w_after[0].flatten().reshape(-1,1)\n",
    "h2_w = w_after[2].flatten().reshape(-1,1)\n",
    "h3_w = w_after[4].flatten().reshape(-1,1)\n",
    "out_w = w_after[6].flatten().reshape(-1,1)\n",
    "\n",
    "\n",
    "fig = plt.figure()\n",
    "plt.title(\"Weight matrices after model trained\")\n",
    "plt.subplot(1, 4, 1)\n",
    "plt.title(\"Trained \\n model \\n Weights\")\n",
    "ax = sns.violinplot(y=h1_w,color='b')\n",
    "plt.xlabel('Hidden Layer 1')\n",
    "\n",
    "plt.subplot(1, 4, 2)\n",
    "plt.title(\"Trained \\n model \\n Weights\")\n",
    "ax = sns.violinplot(y=h2_w, color='r')\n",
    "plt.xlabel('Hidden Layer 2 ')\n",
    "\n",
    "plt.subplot(1, 4, 3)\n",
    "plt.title(\"Trained \\n model \\n Weights\")\n",
    "ax = sns.violinplot(y=h3_w, color='g')\n",
    "plt.xlabel('Hidden Layer 3 ')\n",
    "\n",
    "plt.subplot(1, 4, 4)\n",
    "plt.title(\"Trained \\n model \\n Weights\")\n",
    "ax = sns.violinplot(y=out_w,color='y')\n",
    "plt.xlabel('Output Layer ')\n",
    "plt.show()"
   ]
  },
  {
   "cell_type": "markdown",
   "metadata": {
    "colab_type": "text",
    "id": "MZHVGdAo0oIp"
   },
   "source": [
    "# 9. Three Hidden layers (input = 784,number of neurons in layer 1 = 400,number of neurons in layer 2 = 300,number of neurons in layer 3 = 200,output = 10) with batch normalization and dropout"
   ]
  },
  {
   "cell_type": "markdown",
   "metadata": {},
   "source": [
    "1. Number of neurons here are activation functions.\n",
    "2. Here activation function used is 'relu' and optimizer used is 'adam'.\n",
    "3. Number of epochs is 5 and Batch_size is 128.\n",
    "4. We used our metric as 'accuracy'.\n",
    "5. We used Batch normalization and dropout at Layer2 and Layer3.\n",
    "6. Dropout  rate is 0.5"
   ]
  },
  {
   "cell_type": "code",
   "execution_count": 36,
   "metadata": {
    "colab": {
     "base_uri": "https://localhost:8080/",
     "height": 444
    },
    "colab_type": "code",
    "id": "vkgJNdYvtsLc",
    "outputId": "6486b706-d558-42b0-be33-28df576f2075"
   },
   "outputs": [
    {
     "name": "stdout",
     "output_type": "stream",
     "text": [
      "Model: \"sequential_6\"\n",
      "_________________________________________________________________\n",
      "Layer (type)                 Output Shape              Param #   \n",
      "=================================================================\n",
      "dense_16 (Dense)             (None, 400)               314000    \n",
      "_________________________________________________________________\n",
      "dense_17 (Dense)             (None, 300)               120300    \n",
      "_________________________________________________________________\n",
      "batch_normalization_5 (Batch (None, 300)               1200      \n",
      "_________________________________________________________________\n",
      "dropout_5 (Dropout)          (None, 300)               0         \n",
      "_________________________________________________________________\n",
      "dense_18 (Dense)             (None, 200)               60200     \n",
      "_________________________________________________________________\n",
      "batch_normalization_6 (Batch (None, 200)               800       \n",
      "_________________________________________________________________\n",
      "dropout_6 (Dropout)          (None, 200)               0         \n",
      "_________________________________________________________________\n",
      "dense_19 (Dense)             (None, 10)                2010      \n",
      "=================================================================\n",
      "Total params: 498,510\n",
      "Trainable params: 497,510\n",
      "Non-trainable params: 1,000\n",
      "_________________________________________________________________\n"
     ]
    }
   ],
   "source": [
    "model_drop = Sequential()\n",
    "\n",
    "model_drop.add(Dense(400, activation='relu', input_shape=(input_dim,), kernel_initializer=keras.initializers.he_uniform(seed=None)))\n",
    "# model_drop.add(BatchNormalization())\n",
    "# model_drop.add(Dropout(0.5))\n",
    "\n",
    "model_drop.add(Dense(300, activation='relu', kernel_initializer=keras.initializers.he_uniform(seed=None)) )\n",
    "model_drop.add(BatchNormalization())\n",
    "model_drop.add(Dropout(0.5))\n",
    "\n",
    "model_drop.add(Dense(200, activation='relu', kernel_initializer=keras.initializers.he_uniform(seed=None)) )\n",
    "model_drop.add(BatchNormalization())\n",
    "model_drop.add(Dropout(0.5))\n",
    "\n",
    "model_drop.add(Dense(output_dim, activation='softmax'))\n",
    "\n",
    "\n",
    "model_drop.summary()"
   ]
  },
  {
   "cell_type": "code",
   "execution_count": 37,
   "metadata": {
    "colab": {
     "base_uri": "https://localhost:8080/",
     "height": 212
    },
    "colab_type": "code",
    "id": "NY2w4XD-tsUz",
    "outputId": "008e13ea-39be-4db3-b010-059708bd824a"
   },
   "outputs": [
    {
     "name": "stdout",
     "output_type": "stream",
     "text": [
      "Train on 60000 samples, validate on 10000 samples\n",
      "Epoch 1/5\n",
      "60000/60000 [==============================] - 5s 76us/step - loss: 0.4143 - acc: 0.8737 - val_loss: 0.1421 - val_acc: 0.9558\n",
      "Epoch 2/5\n",
      "60000/60000 [==============================] - 4s 59us/step - loss: 0.1671 - acc: 0.9495 - val_loss: 0.1156 - val_acc: 0.9628\n",
      "Epoch 3/5\n",
      "60000/60000 [==============================] - 4s 59us/step - loss: 0.1182 - acc: 0.9649 - val_loss: 0.0839 - val_acc: 0.9734\n",
      "Epoch 4/5\n",
      "60000/60000 [==============================] - 4s 59us/step - loss: 0.0931 - acc: 0.9718 - val_loss: 0.0840 - val_acc: 0.9735\n",
      "Epoch 5/5\n",
      "60000/60000 [==============================] - 4s 61us/step - loss: 0.0712 - acc: 0.9774 - val_loss: 0.0823 - val_acc: 0.9751\n"
     ]
    }
   ],
   "source": [
    "epoch5 = 5\n",
    "model_drop.compile(optimizer='adam', loss='categorical_crossentropy', metrics=['accuracy'])\n",
    "\n",
    "history = model_drop.fit(X_train, Y_train, batch_size=batch_size, epochs=epoch5, verbose=1, validation_data=(X_test, Y_test))"
   ]
  },
  {
   "cell_type": "code",
   "execution_count": 38,
   "metadata": {
    "colab": {
     "base_uri": "https://localhost:8080/",
     "height": 372
    },
    "colab_type": "code",
    "id": "38W3kukStsZJ",
    "outputId": "c2e5e22e-3742-405d-c8b6-b9ec2fbf42a4"
   },
   "outputs": [
    {
     "name": "stdout",
     "output_type": "stream",
     "text": [
      "Train score: 0.03955110224107824\n",
      "Train accuracy: 0.9873833333333333\n",
      "#############################################\n",
      "Test score: 0.08230718570513418\n",
      "Test accuracy: 0.9751\n"
     ]
    },
    {
     "data": {
      "image/png": "[encoded data removed]",
      "text/plain": [
       "<Figure size 432x288 with 1 Axes>"
      ]
     },
     "metadata": {
      "tags": []
     },
     "output_type": "display_data"
    }
   ],
   "source": [
    "score1 = model_drop.evaluate(X_train, Y_train, verbose=0) \n",
    "print('Train score:', score1[0]) \n",
    "print('Train accuracy:', score1[1])\n",
    "print(\"#############################################\")\n",
    "score = model_drop.evaluate(X_test, Y_test, verbose=0) \n",
    "print('Test score:', score[0]) \n",
    "print('Test accuracy:', score[1])\n",
    "\n",
    "fig,ax = plt.subplots(1,1)\n",
    "ax.set_xlabel('epoch') ; ax.set_ylabel('Categorical Crossentropy Loss')\n",
    "\n",
    "# list of epoch numbers\n",
    "x = list(range(1,epoch5+1))\n",
    "\n",
    "# print(history.history.keys())\n",
    "# dict_keys(['val_loss', 'val_acc', 'loss', 'acc'])\n",
    "# history = model_drop.fit(X_train, Y_train, batch_size=batch_size, epochs=nb_epoch, verbose=1, validation_data=(X_test, Y_test))\n",
    "\n",
    "# we will get val_loss and val_acc only when you pass the paramter validation_data\n",
    "# val_loss : validation loss\n",
    "# val_acc : validation accuracy\n",
    "\n",
    "# loss : training loss\n",
    "# acc : train accuracy\n",
    "# for each key in histrory.histrory we will have a list of length equal to number of epochs\n",
    "\n",
    "vy = history.history['val_loss']\n",
    "ty = history.history['loss']\n",
    "plt_dynamic(x, vy, ty, ax)"
   ]
  },
  {
   "cell_type": "code",
   "execution_count": 39,
   "metadata": {
    "colab": {
     "base_uri": "https://localhost:8080/",
     "height": 315
    },
    "colab_type": "code",
    "id": "YvCiNOpAtsR8",
    "outputId": "622f14c1-a335-4291-c9c0-f2a7406ad546"
   },
   "outputs": [
    {
     "data": {
      "image/png": "[encoded data removed]",
      "text/plain": [
       "<Figure size 432x288 with 4 Axes>"
      ]
     },
     "metadata": {
      "tags": []
     },
     "output_type": "display_data"
    }
   ],
   "source": [
    "w_after = model_drop.get_weights()\n",
    "\n",
    "h1_w = w_after[0].flatten().reshape(-1,1)\n",
    "h2_w = w_after[2].flatten().reshape(-1,1)\n",
    "h3_w = w_after[4].flatten().reshape(-1,1)\n",
    "out_w = w_after[6].flatten().reshape(-1,1)\n",
    "\n",
    "\n",
    "fig = plt.figure()\n",
    "plt.title(\"Weight matrices after model trained\")\n",
    "plt.subplot(1, 4, 1)\n",
    "plt.title(\"Trained \\n model \\n Weights\")\n",
    "ax = sns.violinplot(y=h1_w,color='b')\n",
    "plt.xlabel('Hidden Layer 1')\n",
    "\n",
    "plt.subplot(1, 4, 2)\n",
    "plt.title(\"Trained \\n model \\n Weights\")\n",
    "ax = sns.violinplot(y=h2_w, color='r')\n",
    "plt.xlabel('Hidden Layer 2 ')\n",
    "\n",
    "plt.subplot(1, 4, 3)\n",
    "plt.title(\"Trained \\n model \\n Weights\")\n",
    "ax = sns.violinplot(y=h3_w, color='g')\n",
    "plt.xlabel('Hidden Layer 3 ')\n",
    "\n",
    "plt.subplot(1, 4, 4)\n",
    "plt.title(\"Trained \\n model \\n Weights\")\n",
    "ax = sns.violinplot(y=out_w,color='y')\n",
    "plt.xlabel('Output Layer ')\n",
    "plt.show()"
   ]
  },
  {
   "cell_type": "markdown",
   "metadata": {
    "colab_type": "text",
    "id": "Bbg6ms7x0tQT"
   },
   "source": [
    "# 10. Five Hidden layers (input = 784,number of neurons in layer 1 = 450,number of neurons in layer 2 = 350,number of neurons in layer 3 = 250,number of neurons in layer 4 = 150,number of neurons in layer 5 = 50,output = 10)"
   ]
  },
  {
   "cell_type": "markdown",
   "metadata": {},
   "source": [
    "1. Number of neurons here are activation functions.\n",
    "2. Here activation function used is 'relu' and optimizer used is 'adam'.\n",
    "3. Number of epochs is 20 and Batch_size is 128.\n",
    "4. We used our metric as 'accuracy'."
   ]
  },
  {
   "cell_type": "code",
   "execution_count": 40,
   "metadata": {
    "colab": {
     "base_uri": "https://localhost:8080/",
     "height": 372
    },
    "colab_type": "code",
    "id": "IOgLkbDdtsP3",
    "outputId": "6cb7c278-18b2-4866-deb4-558b1fb4651e"
   },
   "outputs": [
    {
     "name": "stdout",
     "output_type": "stream",
     "text": [
      "Model: \"sequential_7\"\n",
      "_________________________________________________________________\n",
      "Layer (type)                 Output Shape              Param #   \n",
      "=================================================================\n",
      "dense_20 (Dense)             (None, 450)               353250    \n",
      "_________________________________________________________________\n",
      "dense_21 (Dense)             (None, 350)               157850    \n",
      "_________________________________________________________________\n",
      "dense_22 (Dense)             (None, 250)               87750     \n",
      "_________________________________________________________________\n",
      "dense_23 (Dense)             (None, 150)               37650     \n",
      "_________________________________________________________________\n",
      "dense_24 (Dense)             (None, 50)                7550      \n",
      "_________________________________________________________________\n",
      "dense_25 (Dense)             (None, 10)                510       \n",
      "=================================================================\n",
      "Total params: 644,560\n",
      "Trainable params: 644,560\n",
      "Non-trainable params: 0\n",
      "_________________________________________________________________\n"
     ]
    }
   ],
   "source": [
    "model = Sequential()\n",
    "\n",
    "model.add(Dense(450, activation='relu', input_shape=(input_dim,), kernel_initializer=keras.initializers.he_uniform(seed=None)))\n",
    "\n",
    "model.add(Dense(350, activation='relu', kernel_initializer=keras.initializers.he_uniform(seed=None)) )\n",
    "\n",
    "model.add(Dense(250, activation='relu', kernel_initializer=keras.initializers.he_uniform(seed=None)) )\n",
    "\n",
    "model.add(Dense(150, activation='relu', kernel_initializer=keras.initializers.he_uniform(seed=None)) )\n",
    "\n",
    "model.add(Dense(50, activation='relu', kernel_initializer=keras.initializers.he_uniform(seed=None)) )\n",
    "\n",
    "model.add(Dense(output_dim, activation='softmax'))\n",
    "\n",
    "\n",
    "model.summary()"
   ]
  },
  {
   "cell_type": "code",
   "execution_count": 41,
   "metadata": {
    "colab": {
     "base_uri": "https://localhost:8080/",
     "height": 746
    },
    "colab_type": "code",
    "id": "R-ogwO5BtsI8",
    "outputId": "51f7b8f8-a524-45fe-9349-44a398d85eb8"
   },
   "outputs": [
    {
     "name": "stdout",
     "output_type": "stream",
     "text": [
      "Train on 60000 samples, validate on 10000 samples\n",
      "Epoch 1/20\n",
      "60000/60000 [==============================] - 3s 57us/step - loss: 0.2334 - acc: 0.9291 - val_loss: 0.1112 - val_acc: 0.9652\n",
      "Epoch 2/20\n",
      "60000/60000 [==============================] - 3s 43us/step - loss: 0.0881 - acc: 0.9732 - val_loss: 0.0925 - val_acc: 0.9705\n",
      "Epoch 3/20\n",
      "60000/60000 [==============================] - 3s 42us/step - loss: 0.0601 - acc: 0.9816 - val_loss: 0.0840 - val_acc: 0.9737\n",
      "Epoch 4/20\n",
      "60000/60000 [==============================] - 3s 43us/step - loss: 0.0493 - acc: 0.9841 - val_loss: 0.0754 - val_acc: 0.9755\n",
      "Epoch 5/20\n",
      "60000/60000 [==============================] - 3s 43us/step - loss: 0.0386 - acc: 0.9876 - val_loss: 0.0844 - val_acc: 0.9779\n",
      "Epoch 6/20\n",
      "60000/60000 [==============================] - 3s 43us/step - loss: 0.0304 - acc: 0.9904 - val_loss: 0.0876 - val_acc: 0.9771\n",
      "Epoch 7/20\n",
      "60000/60000 [==============================] - 3s 43us/step - loss: 0.0282 - acc: 0.9908 - val_loss: 0.0770 - val_acc: 0.9791\n",
      "Epoch 8/20\n",
      "60000/60000 [==============================] - 2s 41us/step - loss: 0.0261 - acc: 0.9917 - val_loss: 0.0851 - val_acc: 0.9774\n",
      "Epoch 9/20\n",
      "60000/60000 [==============================] - 3s 42us/step - loss: 0.0208 - acc: 0.9938 - val_loss: 0.0818 - val_acc: 0.9810\n",
      "Epoch 10/20\n",
      "60000/60000 [==============================] - 3s 42us/step - loss: 0.0209 - acc: 0.9934 - val_loss: 0.0795 - val_acc: 0.9798\n",
      "Epoch 11/20\n",
      "60000/60000 [==============================] - 3s 42us/step - loss: 0.0194 - acc: 0.9940 - val_loss: 0.0774 - val_acc: 0.9805\n",
      "Epoch 12/20\n",
      "60000/60000 [==============================] - 3s 42us/step - loss: 0.0176 - acc: 0.9946 - val_loss: 0.0859 - val_acc: 0.9796\n",
      "Epoch 13/20\n",
      "60000/60000 [==============================] - 3s 43us/step - loss: 0.0166 - acc: 0.9946 - val_loss: 0.0753 - val_acc: 0.9806\n",
      "Epoch 14/20\n",
      "60000/60000 [==============================] - 3s 43us/step - loss: 0.0150 - acc: 0.9949 - val_loss: 0.0856 - val_acc: 0.9792\n",
      "Epoch 15/20\n",
      "60000/60000 [==============================] - 3s 42us/step - loss: 0.0133 - acc: 0.9957 - val_loss: 0.1083 - val_acc: 0.9776\n",
      "Epoch 16/20\n",
      "60000/60000 [==============================] - 2s 40us/step - loss: 0.0141 - acc: 0.9957 - val_loss: 0.0794 - val_acc: 0.9829\n",
      "Epoch 17/20\n",
      "60000/60000 [==============================] - 2s 41us/step - loss: 0.0126 - acc: 0.9965 - val_loss: 0.0751 - val_acc: 0.9821\n",
      "Epoch 18/20\n",
      "60000/60000 [==============================] - 3s 42us/step - loss: 0.0104 - acc: 0.9968 - val_loss: 0.0905 - val_acc: 0.9804\n",
      "Epoch 19/20\n",
      "60000/60000 [==============================] - 3s 42us/step - loss: 0.0114 - acc: 0.9967 - val_loss: 0.0935 - val_acc: 0.9800\n",
      "Epoch 20/20\n",
      "60000/60000 [==============================] - 3s 42us/step - loss: 0.0112 - acc: 0.9969 - val_loss: 0.0869 - val_acc: 0.9823\n"
     ]
    }
   ],
   "source": [
    "epoch6 = 20\n",
    "model.compile(optimizer='adam', loss='categorical_crossentropy', metrics=['accuracy'])\n",
    "\n",
    "history = model.fit(X_train, Y_train, batch_size=batch_size, epochs=epoch6, verbose=1, validation_data=(X_test, Y_test))"
   ]
  },
  {
   "cell_type": "code",
   "execution_count": 42,
   "metadata": {
    "colab": {
     "base_uri": "https://localhost:8080/",
     "height": 372
    },
    "colab_type": "code",
    "id": "d5logiqHtsF4",
    "outputId": "248b3b04-d267-4e6e-ee7e-58be009c7327"
   },
   "outputs": [
    {
     "name": "stdout",
     "output_type": "stream",
     "text": [
      "Train score: 0.005956138463119047\n",
      "Train accuracy: 0.9984\n",
      "#############################################\n",
      "Test score: 0.0868614871434289\n",
      "Test accuracy: 0.9823\n"
     ]
    },
    {
     "data": {
      "image/png": "[encoded data removed]",
      "text/plain": [
       "<Figure size 432x288 with 1 Axes>"
      ]
     },
     "metadata": {
      "tags": []
     },
     "output_type": "display_data"
    }
   ],
   "source": [
    "score1 = model.evaluate(X_train, Y_train, verbose=0) \n",
    "print('Train score:', score1[0]) \n",
    "print('Train accuracy:', score1[1])\n",
    "print(\"#############################################\")\n",
    "score = model.evaluate(X_test, Y_test, verbose=0) \n",
    "print('Test score:', score[0]) \n",
    "print('Test accuracy:', score[1])\n",
    "\n",
    "fig,ax = plt.subplots(1,1)\n",
    "ax.set_xlabel('epoch') ; ax.set_ylabel('Categorical Crossentropy Loss')\n",
    "\n",
    "# list of epoch numbers\n",
    "x = list(range(1,epoch6+1))\n",
    "\n",
    "# print(history.history.keys())\n",
    "# dict_keys(['val_loss', 'val_acc', 'loss', 'acc'])\n",
    "# history = model_drop.fit(X_train, Y_train, batch_size=batch_size, epochs=nb_epoch, verbose=1, validation_data=(X_test, Y_test))\n",
    "\n",
    "# we will get val_loss and val_acc only when you pass the paramter validation_data\n",
    "# val_loss : validation loss\n",
    "# val_acc : validation accuracy\n",
    "\n",
    "# loss : training loss\n",
    "# acc : train accuracy\n",
    "# for each key in histrory.histrory we will have a list of length equal to number of epochs\n",
    "\n",
    "vy = history.history['val_loss']\n",
    "ty = history.history['loss']\n",
    "plt_dynamic(x, vy, ty, ax)"
   ]
  },
  {
   "cell_type": "code",
   "execution_count": 43,
   "metadata": {
    "colab": {
     "base_uri": "https://localhost:8080/",
     "height": 327
    },
    "colab_type": "code",
    "id": "NsZbilKmtsCv",
    "outputId": "4a5571d3-b4a1-4432-baa7-0422fad3e61c"
   },
   "outputs": [
    {
     "data": {
      "image/png": "[encoded data removed]",
      "text/plain": [
       "<Figure size 432x288 with 6 Axes>"
      ]
     },
     "metadata": {
      "tags": []
     },
     "output_type": "display_data"
    }
   ],
   "source": [
    "w_after = model.get_weights()\n",
    "\n",
    "h1_w = w_after[0].flatten().reshape(-1,1)\n",
    "h2_w = w_after[2].flatten().reshape(-1,1)\n",
    "h3_w = w_after[4].flatten().reshape(-1,1)\n",
    "h4_w = w_after[6].flatten().reshape(-1,1)\n",
    "h5_w = w_after[8].flatten().reshape(-1,1)\n",
    "out_w = w_after[10].flatten().reshape(-1,1)\n",
    "\n",
    "\n",
    "fig = plt.figure()\n",
    "plt.title(\"Weight matrices after model trained\")\n",
    "plt.subplot(1, 6, 1)\n",
    "plt.title(\"Trained \\n model \\n  Weights\")\n",
    "ax = sns.violinplot(y=h1_w,color='b')\n",
    "plt.xlabel('Hidden \\n Layer 1')\n",
    "\n",
    "plt.subplot(1, 6, 2)\n",
    "plt.title(\"Trained \\n model \\n Weights\")\n",
    "ax = sns.violinplot(y=h2_w, color='r')\n",
    "plt.xlabel('Hidden \\n Layer 2 ')\n",
    "\n",
    "plt.subplot(1, 6, 3)\n",
    "plt.title(\"Trained \\n model \\n Weights\")\n",
    "ax = sns.violinplot(y=h3_w, color='g')\n",
    "plt.xlabel('Hidden \\n Layer 3 ')\n",
    "\n",
    "plt.subplot(1, 6, 4)\n",
    "plt.title(\"Trained \\n model \\n Weights\")\n",
    "ax = sns.violinplot(y=h4_w, color='g')\n",
    "plt.xlabel('Hidden \\n Layer 4 ')\n",
    "\n",
    "plt.subplot(1, 6, 5)\n",
    "plt.title(\"Trained \\n model \\n Weights\")\n",
    "ax = sns.violinplot(y=h5_w, color='g')\n",
    "plt.xlabel('Hidden \\n Layer 5 ')\n",
    "\n",
    "\n",
    "plt.subplot(1, 6, 6)\n",
    "plt.title(\"Trained \\n model \\n Weights\")\n",
    "ax = sns.violinplot(y=out_w,color='y')\n",
    "plt.xlabel('Output \\n Layer ')\n",
    "plt.show()"
   ]
  },
  {
   "cell_type": "code",
   "execution_count": 0,
   "metadata": {
    "colab": {},
    "colab_type": "code",
    "id": "a-fbgWuStr_c"
   },
   "outputs": [],
   "source": []
  },
  {
   "cell_type": "code",
   "execution_count": 0,
   "metadata": {
    "colab": {},
    "colab_type": "code",
    "id": "r8Ixdk_Ptr9T"
   },
   "outputs": [],
   "source": []
  },
  {
   "cell_type": "markdown",
   "metadata": {
    "colab_type": "text",
    "id": "dZRlR5KB36m8"
   },
   "source": [
    "# 11. Five Hidden layers (input = 784,number of neurons in layer 1 = 450,number of neurons in layer 2 = 350,number of neurons in layer 3 = 250,number of neurons in layer 4 = 150,number of neurons in layer 5 = 50,output = 10) with batch normalization and dropout"
   ]
  },
  {
   "cell_type": "markdown",
   "metadata": {},
   "source": [
    "1. Number of neurons here are activation functions.\n",
    "2. Here activation function used is 'relu' and optimizer used is 'adam'.\n",
    "3. Number of epochs is 20 and Batch_size is 128.\n",
    "4. We used our metric as 'accuracy'.\n",
    "5. We used Batch normalization and dropout at Layer2, Layer3,Layer4 and Layer5.\n",
    "6. Dropout  rate is 0.5"
   ]
  },
  {
   "cell_type": "code",
   "execution_count": 44,
   "metadata": {
    "colab": {
     "base_uri": "https://localhost:8080/",
     "height": 657
    },
    "colab_type": "code",
    "id": "oPYur58rtr6i",
    "outputId": "20d5b560-50d6-4a69-f132-bed291358c57"
   },
   "outputs": [
    {
     "name": "stdout",
     "output_type": "stream",
     "text": [
      "Model: \"sequential_8\"\n",
      "_________________________________________________________________\n",
      "Layer (type)                 Output Shape              Param #   \n",
      "=================================================================\n",
      "dense_26 (Dense)             (None, 450)               353250    \n",
      "_________________________________________________________________\n",
      "dense_27 (Dense)             (None, 350)               157850    \n",
      "_________________________________________________________________\n",
      "batch_normalization_7 (Batch (None, 350)               1400      \n",
      "_________________________________________________________________\n",
      "dropout_7 (Dropout)          (None, 350)               0         \n",
      "_________________________________________________________________\n",
      "dense_28 (Dense)             (None, 250)               87750     \n",
      "_________________________________________________________________\n",
      "batch_normalization_8 (Batch (None, 250)               1000      \n",
      "_________________________________________________________________\n",
      "dropout_8 (Dropout)          (None, 250)               0         \n",
      "_________________________________________________________________\n",
      "dense_29 (Dense)             (None, 150)               37650     \n",
      "_________________________________________________________________\n",
      "batch_normalization_9 (Batch (None, 150)               600       \n",
      "_________________________________________________________________\n",
      "dropout_9 (Dropout)          (None, 150)               0         \n",
      "_________________________________________________________________\n",
      "dense_30 (Dense)             (None, 50)                7550      \n",
      "_________________________________________________________________\n",
      "batch_normalization_10 (Batc (None, 50)                200       \n",
      "_________________________________________________________________\n",
      "dropout_10 (Dropout)         (None, 50)                0         \n",
      "_________________________________________________________________\n",
      "dense_31 (Dense)             (None, 10)                510       \n",
      "=================================================================\n",
      "Total params: 647,760\n",
      "Trainable params: 646,160\n",
      "Non-trainable params: 1,600\n",
      "_________________________________________________________________\n"
     ]
    }
   ],
   "source": [
    "model_drop = Sequential()\n",
    "\n",
    "model_drop.add(Dense(450, activation='relu', input_shape=(input_dim,), kernel_initializer=keras.initializers.he_uniform(seed=None)))\n",
    "# model_drop.add(BatchNormalization())\n",
    "# model_drop.add(Dropout(0.5))\n",
    "\n",
    "model_drop.add(Dense(350, activation='relu', kernel_initializer=keras.initializers.he_uniform(seed=None)) )\n",
    "model_drop.add(BatchNormalization())\n",
    "model_drop.add(Dropout(0.5))\n",
    "\n",
    "model_drop.add(Dense(250, activation='relu', kernel_initializer=keras.initializers.he_uniform(seed=None)) )\n",
    "model_drop.add(BatchNormalization())\n",
    "model_drop.add(Dropout(0.5))\n",
    "\n",
    "model_drop.add(Dense(150, activation='relu', kernel_initializer=keras.initializers.he_uniform(seed=None)) )\n",
    "model_drop.add(BatchNormalization())\n",
    "model_drop.add(Dropout(0.5))\n",
    "\n",
    "model_drop.add(Dense(50, activation='relu', kernel_initializer=keras.initializers.he_uniform(seed=None)) )\n",
    "model_drop.add(BatchNormalization())\n",
    "model_drop.add(Dropout(0.5))\n",
    "\n",
    "model_drop.add(Dense(output_dim, activation='softmax'))\n",
    "\n",
    "\n",
    "model_drop.summary()"
   ]
  },
  {
   "cell_type": "code",
   "execution_count": 45,
   "metadata": {
    "colab": {
     "base_uri": "https://localhost:8080/",
     "height": 746
    },
    "colab_type": "code",
    "id": "ziwCVmf3trzS",
    "outputId": "dbc9bb14-c11e-4bec-dccd-fdcf591bd20a"
   },
   "outputs": [
    {
     "name": "stdout",
     "output_type": "stream",
     "text": [
      "Train on 60000 samples, validate on 10000 samples\n",
      "Epoch 1/20\n",
      "60000/60000 [==============================] - 7s 115us/step - loss: 0.8682 - acc: 0.7331 - val_loss: 0.2103 - val_acc: 0.9385\n",
      "Epoch 2/20\n",
      "60000/60000 [==============================] - 5s 89us/step - loss: 0.2858 - acc: 0.9245 - val_loss: 0.1370 - val_acc: 0.9604\n",
      "Epoch 3/20\n",
      "60000/60000 [==============================] - 5s 88us/step - loss: 0.1962 - acc: 0.9498 - val_loss: 0.1211 - val_acc: 0.9689\n",
      "Epoch 4/20\n",
      "60000/60000 [==============================] - 5s 85us/step - loss: 0.1528 - acc: 0.9609 - val_loss: 0.1039 - val_acc: 0.9728\n",
      "Epoch 5/20\n",
      "60000/60000 [==============================] - 5s 87us/step - loss: 0.1281 - acc: 0.9679 - val_loss: 0.1142 - val_acc: 0.9704\n",
      "Epoch 6/20\n",
      "60000/60000 [==============================] - 5s 87us/step - loss: 0.1091 - acc: 0.9726 - val_loss: 0.1123 - val_acc: 0.9719\n",
      "Epoch 7/20\n",
      "60000/60000 [==============================] - 5s 85us/step - loss: 0.0907 - acc: 0.9762 - val_loss: 0.0962 - val_acc: 0.9767\n",
      "Epoch 8/20\n",
      "60000/60000 [==============================] - 5s 85us/step - loss: 0.0815 - acc: 0.9802 - val_loss: 0.0979 - val_acc: 0.9778\n",
      "Epoch 9/20\n",
      "60000/60000 [==============================] - 5s 87us/step - loss: 0.0736 - acc: 0.9813 - val_loss: 0.1084 - val_acc: 0.9760\n",
      "Epoch 10/20\n",
      "60000/60000 [==============================] - 5s 87us/step - loss: 0.0690 - acc: 0.9825 - val_loss: 0.1031 - val_acc: 0.9755\n",
      "Epoch 11/20\n",
      "60000/60000 [==============================] - 5s 85us/step - loss: 0.0590 - acc: 0.9849 - val_loss: 0.0969 - val_acc: 0.9779\n",
      "Epoch 12/20\n",
      "60000/60000 [==============================] - 5s 84us/step - loss: 0.0560 - acc: 0.9863 - val_loss: 0.1021 - val_acc: 0.9791\n",
      "Epoch 13/20\n",
      "60000/60000 [==============================] - 5s 85us/step - loss: 0.0503 - acc: 0.9878 - val_loss: 0.1025 - val_acc: 0.9781\n",
      "Epoch 14/20\n",
      "60000/60000 [==============================] - 5s 85us/step - loss: 0.0474 - acc: 0.9885 - val_loss: 0.0896 - val_acc: 0.9807\n",
      "Epoch 15/20\n",
      "60000/60000 [==============================] - 5s 87us/step - loss: 0.0445 - acc: 0.9886 - val_loss: 0.0877 - val_acc: 0.9823\n",
      "Epoch 16/20\n",
      "60000/60000 [==============================] - 5s 83us/step - loss: 0.0411 - acc: 0.9893 - val_loss: 0.0859 - val_acc: 0.9821\n",
      "Epoch 17/20\n",
      "60000/60000 [==============================] - 5s 84us/step - loss: 0.0360 - acc: 0.9911 - val_loss: 0.0904 - val_acc: 0.9804\n",
      "Epoch 18/20\n",
      "60000/60000 [==============================] - 5s 85us/step - loss: 0.0354 - acc: 0.9914 - val_loss: 0.0897 - val_acc: 0.9806\n",
      "Epoch 19/20\n",
      "60000/60000 [==============================] - 5s 84us/step - loss: 0.0287 - acc: 0.9927 - val_loss: 0.0909 - val_acc: 0.9813\n",
      "Epoch 20/20\n",
      "60000/60000 [==============================] - 5s 84us/step - loss: 0.0297 - acc: 0.9926 - val_loss: 0.1003 - val_acc: 0.9800\n"
     ]
    }
   ],
   "source": [
    "epoch7 = 20\n",
    "model_drop.compile(optimizer='adam', loss='categorical_crossentropy', metrics=['accuracy'])\n",
    "\n",
    "history = model_drop.fit(X_train, Y_train, batch_size=batch_size, epochs=epoch7, verbose=1, validation_data=(X_test, Y_test))"
   ]
  },
  {
   "cell_type": "code",
   "execution_count": 46,
   "metadata": {
    "colab": {
     "base_uri": "https://localhost:8080/",
     "height": 372
    },
    "colab_type": "code",
    "id": "I38ehIwJtrsu",
    "outputId": "22e25a95-b7f9-45d2-e281-c130f7502ce2"
   },
   "outputs": [
    {
     "name": "stdout",
     "output_type": "stream",
     "text": [
      "Train score: 0.009203571533679497\n",
      "Train accuracy: 0.9973833333333333\n",
      "#############################################\n",
      "Test score: 0.10026836708746704\n",
      "Test accuracy: 0.98\n"
     ]
    },
    {
     "data": {
      "image/png": "[encoded data removed]",
      "text/plain": [
       "<Figure size 432x288 with 1 Axes>"
      ]
     },
     "metadata": {
      "tags": []
     },
     "output_type": "display_data"
    }
   ],
   "source": [
    "score1 = model_drop.evaluate(X_train, Y_train, verbose=0) \n",
    "print('Train score:', score1[0]) \n",
    "print('Train accuracy:', score1[1])\n",
    "print(\"#############################################\")\n",
    "score = model_drop.evaluate(X_test, Y_test, verbose=0) \n",
    "print('Test score:', score[0]) \n",
    "print('Test accuracy:', score[1])\n",
    "\n",
    "fig,ax = plt.subplots(1,1)\n",
    "ax.set_xlabel('epoch') ; ax.set_ylabel('Categorical Crossentropy Loss')\n",
    "\n",
    "# list of epoch numbers\n",
    "x = list(range(1,epoch7+1))\n",
    "\n",
    "# print(history.history.keys())\n",
    "# dict_keys(['val_loss', 'val_acc', 'loss', 'acc'])\n",
    "# history = model_drop.fit(X_train, Y_train, batch_size=batch_size, epochs=nb_epoch, verbose=1, validation_data=(X_test, Y_test))\n",
    "\n",
    "# we will get val_loss and val_acc only when you pass the paramter validation_data\n",
    "# val_loss : validation loss\n",
    "# val_acc : validation accuracy\n",
    "\n",
    "# loss : training loss\n",
    "# acc : train accuracy\n",
    "# for each key in histrory.histrory we will have a list of length equal to number of epochs\n",
    "\n",
    "vy = history.history['val_loss']\n",
    "ty = history.history['loss']\n",
    "plt_dynamic(x, vy, ty, ax)"
   ]
  },
  {
   "cell_type": "code",
   "execution_count": 47,
   "metadata": {
    "colab": {
     "base_uri": "https://localhost:8080/",
     "height": 327
    },
    "colab_type": "code",
    "id": "b4o1UlC9trqi",
    "outputId": "bc5dd3d5-caa1-415f-8a0b-0672b714c5ea"
   },
   "outputs": [
    {
     "data": {
      "image/png": "[encoded data removed]",
      "text/plain": [
       "<Figure size 432x288 with 6 Axes>"
      ]
     },
     "metadata": {
      "tags": []
     },
     "output_type": "display_data"
    }
   ],
   "source": [
    "w_after = model_drop.get_weights()\n",
    "\n",
    "h1_w = w_after[0].flatten().reshape(-1,1)\n",
    "h2_w = w_after[2].flatten().reshape(-1,1)\n",
    "h3_w = w_after[4].flatten().reshape(-1,1)\n",
    "h4_w = w_after[6].flatten().reshape(-1,1)\n",
    "h5_w = w_after[8].flatten().reshape(-1,1)\n",
    "out_w = w_after[10].flatten().reshape(-1,1)\n",
    "\n",
    "\n",
    "fig = plt.figure()\n",
    "plt.title(\"Weight matrices after model trained\")\n",
    "plt.subplot(1, 6, 1)\n",
    "plt.title(\"Trained \\n model \\n Weights\")\n",
    "ax = sns.violinplot(y=h1_w,color='b')\n",
    "plt.xlabel('Hidden \\n Layer 1')\n",
    "\n",
    "plt.subplot(1, 6, 2)\n",
    "plt.title(\"Trained \\n model \\n Weights\")\n",
    "ax = sns.violinplot(y=h2_w, color='r')\n",
    "plt.xlabel('Hidden \\n Layer 2 ')\n",
    "\n",
    "plt.subplot(1, 6, 3)\n",
    "plt.title(\"Trained \\n model \\n Weights\")\n",
    "ax = sns.violinplot(y=h3_w, color='g')\n",
    "plt.xlabel('Hidden \\n Layer 3 ')\n",
    "\n",
    "plt.subplot(1, 6, 4)\n",
    "plt.title(\"Trained \\n model \\n Weights\")\n",
    "ax = sns.violinplot(y=h4_w, color='g')\n",
    "plt.xlabel('Hidden \\n Layer 4 ')\n",
    "\n",
    "plt.subplot(1, 6, 5)\n",
    "plt.title(\"Trained \\n model \\n Weights\")\n",
    "ax = sns.violinplot(y=h5_w, color='g')\n",
    "plt.xlabel('Hidden \\n Layer 5 ')\n",
    "\n",
    "\n",
    "plt.subplot(1, 6, 6)\n",
    "plt.title(\"Trained \\n model \\n Weights\")\n",
    "ax = sns.violinplot(y=out_w,color='y')\n",
    "plt.xlabel('Output \\n  Layer ')\n",
    "plt.show()"
   ]
  },
  {
   "cell_type": "markdown",
   "metadata": {
    "colab_type": "text",
    "id": "iTNHtXIBFDdd"
   },
   "source": [
    "# 12. Five Hidden layers (input = 784,number of neurons in layer 1 = 450,number of neurons in layer 2 = 350,number of neurons in layer 3 = 250,number of neurons in layer 4 = 150,number of neurons in layer 5 = 50,output = 10) with batch normalization a dropout\n"
   ]
  },
  {
   "cell_type": "code",
   "execution_count": null,
   "metadata": {},
   "outputs": [],
   "source": [
    "1. Number of neurons here are activation functions.\n",
    "2. Here activation function used is 'relu' and optimizer used is 'adam'.\n",
    "3. Number of epochs is 10 and Batch_size is 128.\n",
    "4. We used our metric as 'accuracy'.\n",
    "5. We used Batch normalization and dropout at Layer2, Layer3,Layer4 and Layer5.\n",
    "6. Dropout  rate is 0.5"
   ]
  },
  {
   "cell_type": "code",
   "execution_count": 48,
   "metadata": {
    "colab": {
     "base_uri": "https://localhost:8080/",
     "height": 657
    },
    "colab_type": "code",
    "id": "FrcMDPTcE_AS",
    "outputId": "9919d1e6-d10e-4cf5-b0ee-c3562a24c4ad"
   },
   "outputs": [
    {
     "name": "stdout",
     "output_type": "stream",
     "text": [
      "Model: \"sequential_9\"\n",
      "_________________________________________________________________\n",
      "Layer (type)                 Output Shape              Param #   \n",
      "=================================================================\n",
      "dense_32 (Dense)             (None, 450)               353250    \n",
      "_________________________________________________________________\n",
      "dense_33 (Dense)             (None, 350)               157850    \n",
      "_________________________________________________________________\n",
      "batch_normalization_11 (Batc (None, 350)               1400      \n",
      "_________________________________________________________________\n",
      "dropout_11 (Dropout)         (None, 350)               0         \n",
      "_________________________________________________________________\n",
      "dense_34 (Dense)             (None, 250)               87750     \n",
      "_________________________________________________________________\n",
      "batch_normalization_12 (Batc (None, 250)               1000      \n",
      "_________________________________________________________________\n",
      "dropout_12 (Dropout)         (None, 250)               0         \n",
      "_________________________________________________________________\n",
      "dense_35 (Dense)             (None, 150)               37650     \n",
      "_________________________________________________________________\n",
      "batch_normalization_13 (Batc (None, 150)               600       \n",
      "_________________________________________________________________\n",
      "dropout_13 (Dropout)         (None, 150)               0         \n",
      "_________________________________________________________________\n",
      "dense_36 (Dense)             (None, 50)                7550      \n",
      "_________________________________________________________________\n",
      "batch_normalization_14 (Batc (None, 50)                200       \n",
      "_________________________________________________________________\n",
      "dropout_14 (Dropout)         (None, 50)                0         \n",
      "_________________________________________________________________\n",
      "dense_37 (Dense)             (None, 10)                510       \n",
      "=================================================================\n",
      "Total params: 647,760\n",
      "Trainable params: 646,160\n",
      "Non-trainable params: 1,600\n",
      "_________________________________________________________________\n"
     ]
    }
   ],
   "source": [
    "model_drop = Sequential()\n",
    "\n",
    "model_drop.add(Dense(450, activation='relu', input_shape=(input_dim,), kernel_initializer=keras.initializers.he_uniform(seed=None)))\n",
    "# model_drop.add(BatchNormalization())\n",
    "# model_drop.add(Dropout(0.5))\n",
    "\n",
    "model_drop.add(Dense(350, activation='relu', kernel_initializer=keras.initializers.he_uniform(seed=None)) )\n",
    "model_drop.add(BatchNormalization())\n",
    "model_drop.add(Dropout(0.5))\n",
    "\n",
    "model_drop.add(Dense(250, activation='relu', kernel_initializer=keras.initializers.he_uniform(seed=None)) )\n",
    "model_drop.add(BatchNormalization())\n",
    "model_drop.add(Dropout(0.5))\n",
    "\n",
    "model_drop.add(Dense(150, activation='relu', kernel_initializer=keras.initializers.he_uniform(seed=None)) )\n",
    "model_drop.add(BatchNormalization())\n",
    "model_drop.add(Dropout(0.5))\n",
    "\n",
    "model_drop.add(Dense(50, activation='relu', kernel_initializer=keras.initializers.he_uniform(seed=None)) )\n",
    "model_drop.add(BatchNormalization())\n",
    "model_drop.add(Dropout(0.5))\n",
    "\n",
    "model_drop.add(Dense(output_dim, activation='softmax'))\n",
    "\n",
    "\n",
    "model_drop.summary()"
   ]
  },
  {
   "cell_type": "code",
   "execution_count": 49,
   "metadata": {
    "colab": {
     "base_uri": "https://localhost:8080/",
     "height": 390
    },
    "colab_type": "code",
    "id": "6iUSpb_jE_et",
    "outputId": "b0071dca-a301-4158-8d6a-8dcdf1788206"
   },
   "outputs": [
    {
     "name": "stdout",
     "output_type": "stream",
     "text": [
      "Train on 60000 samples, validate on 10000 samples\n",
      "Epoch 1/10\n",
      "60000/60000 [==============================] - 7s 121us/step - loss: 0.9092 - acc: 0.7260 - val_loss: 0.2156 - val_acc: 0.9364\n",
      "Epoch 2/10\n",
      "60000/60000 [==============================] - 5s 87us/step - loss: 0.2963 - acc: 0.9228 - val_loss: 0.1467 - val_acc: 0.9598\n",
      "Epoch 3/10\n",
      "60000/60000 [==============================] - 5s 86us/step - loss: 0.2050 - acc: 0.9485 - val_loss: 0.1126 - val_acc: 0.9692\n",
      "Epoch 4/10\n",
      "60000/60000 [==============================] - 5s 88us/step - loss: 0.1526 - acc: 0.9615 - val_loss: 0.1034 - val_acc: 0.9745\n",
      "Epoch 5/10\n",
      "60000/60000 [==============================] - 5s 86us/step - loss: 0.1331 - acc: 0.9668 - val_loss: 0.0933 - val_acc: 0.9755\n",
      "Epoch 6/10\n",
      "60000/60000 [==============================] - 5s 86us/step - loss: 0.1058 - acc: 0.9732 - val_loss: 0.1025 - val_acc: 0.9751\n",
      "Epoch 7/10\n",
      "60000/60000 [==============================] - 5s 87us/step - loss: 0.0960 - acc: 0.9761 - val_loss: 0.1004 - val_acc: 0.9756\n",
      "Epoch 8/10\n",
      "60000/60000 [==============================] - 5s 86us/step - loss: 0.0839 - acc: 0.9793 - val_loss: 0.0924 - val_acc: 0.9764\n",
      "Epoch 9/10\n",
      "60000/60000 [==============================] - 5s 86us/step - loss: 0.0758 - acc: 0.9807 - val_loss: 0.0918 - val_acc: 0.9769\n",
      "Epoch 10/10\n",
      "60000/60000 [==============================] - 5s 84us/step - loss: 0.0649 - acc: 0.9833 - val_loss: 0.0906 - val_acc: 0.9790\n"
     ]
    }
   ],
   "source": [
    "epoch8 = 10\n",
    "model_drop.compile(optimizer='adam', loss='categorical_crossentropy', metrics=['accuracy'])\n",
    "\n",
    "history = model_drop.fit(X_train, Y_train, batch_size=batch_size, epochs=epoch8, verbose=1, validation_data=(X_test, Y_test))"
   ]
  },
  {
   "cell_type": "code",
   "execution_count": 50,
   "metadata": {
    "colab": {
     "base_uri": "https://localhost:8080/",
     "height": 372
    },
    "colab_type": "code",
    "id": "7rBiPMd7E_ci",
    "outputId": "fd884be7-2151-4b80-c2db-7220abdddf19"
   },
   "outputs": [
    {
     "name": "stdout",
     "output_type": "stream",
     "text": [
      "Train score: 0.029697504019745004\n",
      "Train accuracy: 0.9924333333333333\n",
      "#############################################\n",
      "Test score: 0.09058548904829658\n",
      "Test accuracy: 0.979\n"
     ]
    },
    {
     "data": {
      "image/png": "[encoded data removed]",
      "text/plain": [
       "<Figure size 432x288 with 1 Axes>"
      ]
     },
     "metadata": {
      "tags": []
     },
     "output_type": "display_data"
    }
   ],
   "source": [
    "score1 = model_drop.evaluate(X_train, Y_train, verbose=0) \n",
    "print('Train score:', score1[0]) \n",
    "print('Train accuracy:', score1[1])\n",
    "print(\"#############################################\")\n",
    "score = model_drop.evaluate(X_test, Y_test, verbose=0) \n",
    "print('Test score:', score[0]) \n",
    "print('Test accuracy:', score[1])\n",
    "\n",
    "fig,ax = plt.subplots(1,1)\n",
    "ax.set_xlabel('epoch') ; ax.set_ylabel('Categorical Crossentropy Loss')\n",
    "\n",
    "# list of epoch numbers\n",
    "x = list(range(1,epoch8+1))\n",
    "\n",
    "# print(history.history.keys())\n",
    "# dict_keys(['val_loss', 'val_acc', 'loss', 'acc'])\n",
    "# history = model_drop.fit(X_train, Y_train, batch_size=batch_size, epochs=nb_epoch, verbose=1, validation_data=(X_test, Y_test))\n",
    "\n",
    "# we will get val_loss and val_acc only when you pass the paramter validation_data\n",
    "# val_loss : validation loss\n",
    "# val_acc : validation accuracy\n",
    "\n",
    "# loss : training loss\n",
    "# acc : train accuracy\n",
    "# for each key in histrory.histrory we will have a list of length equal to number of epochs\n",
    "\n",
    "vy = history.history['val_loss']\n",
    "ty = history.history['loss']\n",
    "plt_dynamic(x, vy, ty, ax)"
   ]
  },
  {
   "cell_type": "code",
   "execution_count": 51,
   "metadata": {
    "colab": {
     "base_uri": "https://localhost:8080/",
     "height": 327
    },
    "colab_type": "code",
    "id": "RJiBBdFsE_aX",
    "outputId": "8489f2da-0d40-40b8-a8be-7286f7f6cbff"
   },
   "outputs": [
    {
     "data": {
      "image/png": "[encoded data removed]",
      "text/plain": [
       "<Figure size 432x288 with 6 Axes>"
      ]
     },
     "metadata": {
      "tags": []
     },
     "output_type": "display_data"
    }
   ],
   "source": [
    "w_after = model_drop.get_weights()\n",
    "\n",
    "h1_w = w_after[0].flatten().reshape(-1,1)\n",
    "h2_w = w_after[2].flatten().reshape(-1,1)\n",
    "h3_w = w_after[4].flatten().reshape(-1,1)\n",
    "h4_w = w_after[6].flatten().reshape(-1,1)\n",
    "h5_w = w_after[8].flatten().reshape(-1,1)\n",
    "out_w = w_after[10].flatten().reshape(-1,1)\n",
    "\n",
    "\n",
    "fig = plt.figure()\n",
    "plt.title(\"Weight matrices after model trained\")\n",
    "plt.subplot(1, 6, 1)\n",
    "plt.title(\"Trained \\n model \\n Weights\")\n",
    "ax = sns.violinplot(y=h1_w,color='b')\n",
    "plt.xlabel('Hidden \\n Layer 1')\n",
    "\n",
    "plt.subplot(1, 6, 2)\n",
    "plt.title(\"Trained \\n model \\n Weights\")\n",
    "ax = sns.violinplot(y=h2_w, color='r')\n",
    "plt.xlabel('Hidden \\n Layer 2 ')\n",
    "\n",
    "plt.subplot(1, 6, 3)\n",
    "plt.title(\"Trained \\n model \\n Weights\")\n",
    "ax = sns.violinplot(y=h3_w, color='g')\n",
    "plt.xlabel('Hidden \\n Layer 3 ')\n",
    "\n",
    "plt.subplot(1, 6, 4)\n",
    "plt.title(\"Trained \\n model \\n Weights\")\n",
    "ax = sns.violinplot(y=h4_w, color='g')\n",
    "plt.xlabel('Hidden \\n Layer 4 ')\n",
    "\n",
    "plt.subplot(1, 6, 5)\n",
    "plt.title(\"Trained \\n model \\n Weights\")\n",
    "ax = sns.violinplot(y=h5_w, color='g')\n",
    "plt.xlabel('Hidden \\n Layer 5 ')\n",
    "\n",
    "\n",
    "plt.subplot(1, 6, 6)\n",
    "plt.title(\"Trained \\n model \\n Weights\")\n",
    "ax = sns.violinplot(y=out_w,color='y')\n",
    "plt.xlabel('Output \\n  Layer ')\n",
    "plt.show()"
   ]
  },
  {
   "cell_type": "markdown",
   "metadata": {
    "colab": {},
    "colab_type": "code",
    "id": "Fg65BYXGASol"
   },
   "source": [
    "# 13. Hyperparameter Tuning 'epochs' and 'batch_size'"
   ]
  },
  {
   "cell_type": "code",
   "execution_count": 0,
   "metadata": {
    "colab": {},
    "colab_type": "code",
    "id": "KC9rCwp4trd6"
   },
   "outputs": [],
   "source": [
    "from keras.optimizers import Adam,RMSprop,SGD\n",
    "def best_hyperparameters():\n",
    "\n",
    "    model_drop.add(Dense(450, activation='relu', input_shape=(input_dim,), kernel_initializer=keras.initializers.he_uniform(seed=None)))\n",
    "    # model_drop.add(BatchNormalization())\n",
    "    # model_drop.add(Dropout(0.5))\n",
    "\n",
    "    model_drop.add(Dense(350, activation='relu', kernel_initializer=keras.initializers.he_uniform(seed=None)) )\n",
    "    model_drop.add(BatchNormalization())\n",
    "    model_drop.add(Dropout(0.5))\n",
    "\n",
    "    model_drop.add(Dense(250, activation='relu', kernel_initializer=keras.initializers.he_uniform(seed=None)) )\n",
    "    model_drop.add(BatchNormalization())\n",
    "    model_drop.add(Dropout(0.5))\n",
    "\n",
    "    model_drop.add(Dense(150, activation='relu', kernel_initializer=keras.initializers.he_uniform(seed=None)) )\n",
    "    model_drop.add(BatchNormalization())\n",
    "    model_drop.add(Dropout(0.5))\n",
    "\n",
    "    model_drop.add(Dense(50, activation='relu', kernel_initializer=keras.initializers.he_uniform(seed=None)) )\n",
    "    model_drop.add(BatchNormalization())\n",
    "    model_drop.add(Dropout(0.5))\n",
    "\n",
    "    model_drop.add(Dense(output_dim, activation='softmax'))\n",
    "\n",
    "\n",
    "\n",
    "    model_drop.compile(loss='categorical_crossentropy', metrics=['accuracy'], optimizer='adam')\n",
    "#     history = model_drop.fit(X_train, Y_train, batch_size=batch_size, epochs=parameter, verbose=1, validation_data=(X_test, Y_test))\n",
    "    return model_drop"
   ]
  },
  {
   "cell_type": "code",
   "execution_count": 53,
   "metadata": {
    "colab": {
     "base_uri": "https://localhost:8080/",
     "height": 72
    },
    "colab_type": "code",
    "id": "Gt4MOcigtrav",
    "outputId": "46fcba60-ec59-445e-d51f-4dc447e850be"
   },
   "outputs": [
    {
     "name": "stderr",
     "output_type": "stream",
     "text": [
      "/usr/local/lib/python3.6/dist-packages/sklearn/model_selection/_split.py:1978: FutureWarning: The default value of cv will change from 3 to 5 in version 0.22. Specify it explicitly to silence this warning.\n",
      "  warnings.warn(CV_WARNING, FutureWarning)\n"
     ]
    }
   ],
   "source": [
    "# https://machinelearningmastery.com/grid-search-hyperparameters-deep-learning-models-python-keras/\n",
    "from keras.wrappers.scikit_learn import KerasClassifier\n",
    "from sklearn.model_selection import GridSearchCV\n",
    "\n",
    "model_best = KerasClassifier(build_fn=best_hyperparameters, verbose=0)\n",
    "\n",
    "epochs_best = [5,8]\n",
    "batch_size_best = [200,300]\n",
    "\n",
    "param_grid = dict(batch_size = batch_size_best,epochs = epochs_best)\n",
    "\n",
    "\n",
    "# if you are using CPU\n",
    "# grid = GridSearchCV(estimator=model, param_grid=param_grid, n_jobs=-1)\n",
    "# if you are using GPU dont use the n_jobs parameter\n",
    "\n",
    "grid = GridSearchCV(estimator=model_best, param_grid=param_grid)\n",
    "grid_result = grid.fit(X_train, Y_train)"
   ]
  },
  {
   "cell_type": "code",
   "execution_count": 54,
   "metadata": {
    "colab": {
     "base_uri": "https://localhost:8080/",
     "height": 106
    },
    "colab_type": "code",
    "id": "FChdu3LatrXW",
    "outputId": "4abfaba6-a6f4-4f55-8c3b-8ea65dfa2c08"
   },
   "outputs": [
    {
     "name": "stdout",
     "output_type": "stream",
     "text": [
      "Best: 0.981050 using {'batch_size': 200, 'epochs': 5}\n",
      "0.981050 (0.006049) with: {'batch_size': 200, 'epochs': 5}\n",
      "0.688733 (0.178250) with: {'batch_size': 200, 'epochs': 8}\n",
      "0.398417 (0.070855) with: {'batch_size': 300, 'epochs': 5}\n",
      "0.230083 (0.036925) with: {'batch_size': 300, 'epochs': 8}\n"
     ]
    }
   ],
   "source": [
    "print(\"Best: %f using %s\" % (grid_result.best_score_, grid_result.best_params_))\n",
    "means = grid_result.cv_results_['mean_test_score']\n",
    "stds = grid_result.cv_results_['std_test_score']\n",
    "params = grid_result.cv_results_['params']\n",
    "for mean, stdev, param in zip(means, stds, params):\n",
    "    print(\"%f (%f) with: %r\" % (mean, stdev, param))"
   ]
  },
  {
   "cell_type": "markdown",
   "metadata": {},
   "source": [
    "# 14. Five Hidden layers (input = 784,number of neurons in layer 1 = 450,number of neurons in layer 2 = 350,number of neurons in layer 3 = 250,number of neurons in layer 4 = 150,number of neurons in layer 5 = 50,output = 10) with batch normalization a dropout"
   ]
  },
  {
   "cell_type": "markdown",
   "metadata": {
    "colab_type": "text",
    "id": "loNIQ94iLu82"
   },
   "source": [
    "1. Number of neurons here are activation functions.\n",
    "2. Here activation function used is 'relu' and optimizer used is 'adam'.\n",
    "3. Number of epochs is 5 and Batch_size is 200.\n",
    "4. We used our metric as 'accuracy'.\n",
    "5. We used Batch normalization and dropout at Layer2, Layer3,Layer4 and Layer5.\n",
    "6. Dropout  rate is 0.5"
   ]
  },
  {
   "cell_type": "code",
   "execution_count": 55,
   "metadata": {
    "colab": {
     "base_uri": "https://localhost:8080/",
     "height": 657
    },
    "colab_type": "code",
    "id": "Ob-QzXC5trVV",
    "outputId": "29ee9393-87d4-4e49-af45-8cb1b7b0c767"
   },
   "outputs": [
    {
     "name": "stdout",
     "output_type": "stream",
     "text": [
      "Model: \"sequential_10\"\n",
      "_________________________________________________________________\n",
      "Layer (type)                 Output Shape              Param #   \n",
      "=================================================================\n",
      "dense_116 (Dense)            (None, 450)               353250    \n",
      "_________________________________________________________________\n",
      "dense_117 (Dense)            (None, 350)               157850    \n",
      "_________________________________________________________________\n",
      "batch_normalization_67 (Batc (None, 350)               1400      \n",
      "_________________________________________________________________\n",
      "dropout_67 (Dropout)         (None, 350)               0         \n",
      "_________________________________________________________________\n",
      "dense_118 (Dense)            (None, 250)               87750     \n",
      "_________________________________________________________________\n",
      "batch_normalization_68 (Batc (None, 250)               1000      \n",
      "_________________________________________________________________\n",
      "dropout_68 (Dropout)         (None, 250)               0         \n",
      "_________________________________________________________________\n",
      "dense_119 (Dense)            (None, 150)               37650     \n",
      "_________________________________________________________________\n",
      "batch_normalization_69 (Batc (None, 150)               600       \n",
      "_________________________________________________________________\n",
      "dropout_69 (Dropout)         (None, 150)               0         \n",
      "_________________________________________________________________\n",
      "dense_120 (Dense)            (None, 50)                7550      \n",
      "_________________________________________________________________\n",
      "batch_normalization_70 (Batc (None, 50)                200       \n",
      "_________________________________________________________________\n",
      "dropout_70 (Dropout)         (None, 50)                0         \n",
      "_________________________________________________________________\n",
      "dense_121 (Dense)            (None, 10)                510       \n",
      "=================================================================\n",
      "Total params: 647,760\n",
      "Trainable params: 646,160\n",
      "Non-trainable params: 1,600\n",
      "_________________________________________________________________\n"
     ]
    }
   ],
   "source": [
    "model_drop = Sequential()\n",
    "\n",
    "model_drop.add(Dense(450, activation='relu', input_shape=(input_dim,), kernel_initializer=keras.initializers.he_uniform(seed=None)))\n",
    "# model_drop.add(BatchNormalization())\n",
    "# model_drop.add(Dropout(0.5))\n",
    "\n",
    "model_drop.add(Dense(350, activation='relu', kernel_initializer=keras.initializers.he_uniform(seed=None)) )\n",
    "model_drop.add(BatchNormalization())\n",
    "model_drop.add(Dropout(0.5))\n",
    "\n",
    "model_drop.add(Dense(250, activation='relu', kernel_initializer=keras.initializers.he_uniform(seed=None)) )\n",
    "model_drop.add(BatchNormalization())\n",
    "model_drop.add(Dropout(0.5))\n",
    "\n",
    "model_drop.add(Dense(150, activation='relu', kernel_initializer=keras.initializers.he_uniform(seed=None)) )\n",
    "model_drop.add(BatchNormalization())\n",
    "model_drop.add(Dropout(0.5))\n",
    "\n",
    "model_drop.add(Dense(50, activation='relu', kernel_initializer=keras.initializers.he_uniform(seed=None)) )\n",
    "model_drop.add(BatchNormalization())\n",
    "model_drop.add(Dropout(0.5))\n",
    "\n",
    "model_drop.add(Dense(output_dim, activation='softmax'))\n",
    "\n",
    "\n",
    "model_drop.summary()"
   ]
  },
  {
   "cell_type": "code",
   "execution_count": 56,
   "metadata": {
    "colab": {
     "base_uri": "https://localhost:8080/",
     "height": 212
    },
    "colab_type": "code",
    "id": "I0QYPGALtrPP",
    "outputId": "fa3c664c-28d1-4345-9892-519b869f3477"
   },
   "outputs": [
    {
     "name": "stdout",
     "output_type": "stream",
     "text": [
      "Train on 60000 samples, validate on 10000 samples\n",
      "Epoch 1/5\n",
      "60000/60000 [==============================] - 26s 426us/step - loss: 0.9826 - acc: 0.6973 - val_loss: 0.2251 - val_acc: 0.9353\n",
      "Epoch 2/5\n",
      "60000/60000 [==============================] - 5s 75us/step - loss: 0.3202 - acc: 0.9156 - val_loss: 0.1570 - val_acc: 0.9574\n",
      "Epoch 3/5\n",
      "60000/60000 [==============================] - 5s 75us/step - loss: 0.2085 - acc: 0.9472 - val_loss: 0.1370 - val_acc: 0.9618\n",
      "Epoch 4/5\n",
      "60000/60000 [==============================] - 5s 76us/step - loss: 0.1570 - acc: 0.9606 - val_loss: 0.1134 - val_acc: 0.9699\n",
      "Epoch 5/5\n",
      "60000/60000 [==============================] - 5s 76us/step - loss: 0.1267 - acc: 0.9689 - val_loss: 0.1028 - val_acc: 0.9721\n"
     ]
    }
   ],
   "source": [
    "epoch_best = 5\n",
    "model_drop.compile(optimizer='adam', loss='categorical_crossentropy', metrics=['accuracy'])\n",
    "\n",
    "history = model_drop.fit(X_train, Y_train, batch_size= 200, epochs=epoch_best, verbose=1, validation_data=(X_test, Y_test))"
   ]
  },
  {
   "cell_type": "code",
   "execution_count": 57,
   "metadata": {
    "colab": {
     "base_uri": "https://localhost:8080/",
     "height": 372
    },
    "colab_type": "code",
    "id": "RGhoymH_trJG",
    "outputId": "445775ba-1a00-41cc-fb23-bd8cf85f8a11"
   },
   "outputs": [
    {
     "name": "stdout",
     "output_type": "stream",
     "text": [
      "Train score: 0.055952023635990916\n",
      "Train accuracy: 0.9843\n",
      "#############################################\n",
      "Test score: 0.10278879055995493\n",
      "Test accuracy: 0.9721\n"
     ]
    },
    {
     "data": {
      "image/png": "[encoded data removed]",
      "text/plain": [
       "<Figure size 432x288 with 1 Axes>"
      ]
     },
     "metadata": {
      "tags": []
     },
     "output_type": "display_data"
    }
   ],
   "source": [
    "score1 = model_drop.evaluate(X_train, Y_train, verbose=0) \n",
    "print('Train score:', score1[0]) \n",
    "print('Train accuracy:', score1[1])\n",
    "print(\"#############################################\")\n",
    "score = model_drop.evaluate(X_test, Y_test, verbose=0) \n",
    "print('Test score:', score[0]) \n",
    "print('Test accuracy:', score[1])\n",
    "\n",
    "fig,ax = plt.subplots(1,1)\n",
    "ax.set_xlabel('epoch') ; ax.set_ylabel('Categorical Crossentropy Loss')\n",
    "\n",
    "# list of epoch numbers\n",
    "x = list(range(1,epoch_best+1))\n",
    "\n",
    "# print(history.history.keys())\n",
    "# dict_keys(['val_loss', 'val_acc', 'loss', 'acc'])\n",
    "# history = model_drop.fit(X_train, Y_train, batch_size=batch_size, epochs=nb_epoch, verbose=1, validation_data=(X_test, Y_test))\n",
    "\n",
    "# we will get val_loss and val_acc only when you pass the paramter validation_data\n",
    "# val_loss : validation loss\n",
    "# val_acc : validation accuracy\n",
    "\n",
    "# loss : training loss\n",
    "# acc : train accuracy\n",
    "# for each key in histrory.histrory we will have a list of length equal to number of epochs\n",
    "\n",
    "vy = history.history['val_loss']\n",
    "ty = history.history['loss']\n",
    "plt_dynamic(x, vy, ty, ax)"
   ]
  },
  {
   "cell_type": "code",
   "execution_count": 58,
   "metadata": {
    "colab": {
     "base_uri": "https://localhost:8080/",
     "height": 327
    },
    "colab_type": "code",
    "id": "1EAJYCivtrCQ",
    "outputId": "585a99cd-3627-4e3f-bb3d-3971ee344b1a"
   },
   "outputs": [
    {
     "data": {
      "image/png": "[encoded data removed]",
      "text/plain": [
       "<Figure size 432x288 with 6 Axes>"
      ]
     },
     "metadata": {
      "tags": []
     },
     "output_type": "display_data"
    }
   ],
   "source": [
    "w_after = model_drop.get_weights()\n",
    "\n",
    "h1_w = w_after[0].flatten().reshape(-1,1)\n",
    "h2_w = w_after[2].flatten().reshape(-1,1)\n",
    "h3_w = w_after[4].flatten().reshape(-1,1)\n",
    "h4_w = w_after[6].flatten().reshape(-1,1)\n",
    "h5_w = w_after[8].flatten().reshape(-1,1)\n",
    "out_w = w_after[10].flatten().reshape(-1,1)\n",
    "\n",
    "\n",
    "fig = plt.figure()\n",
    "plt.title(\"Weight matrices after model trained\")\n",
    "plt.subplot(1, 6, 1)\n",
    "plt.title(\"Trained \\n model \\n Weights\")\n",
    "ax = sns.violinplot(y=h1_w,color='b')\n",
    "plt.xlabel('Hidden \\n Layer 1')\n",
    "\n",
    "plt.subplot(1, 6, 2)\n",
    "plt.title(\"Trained \\n model \\n Weights\")\n",
    "ax = sns.violinplot(y=h2_w, color='r')\n",
    "plt.xlabel('Hidden \\n Layer 2 ')\n",
    "\n",
    "plt.subplot(1, 6, 3)\n",
    "plt.title(\"Trained \\n model \\n Weights\")\n",
    "ax = sns.violinplot(y=h3_w, color='g')\n",
    "plt.xlabel('Hidden \\n Layer 3 ')\n",
    "\n",
    "plt.subplot(1, 6, 4)\n",
    "plt.title(\"Trained \\n model \\n Weights\")\n",
    "ax = sns.violinplot(y=h4_w, color='g')\n",
    "plt.xlabel('Hidden \\n Layer 4 ')\n",
    "\n",
    "plt.subplot(1, 6, 5)\n",
    "plt.title(\"Trained \\n model \\n Weights\")\n",
    "ax = sns.violinplot(y=h5_w, color='g')\n",
    "plt.xlabel('Hidden \\n Layer 5 ')\n",
    "\n",
    "\n",
    "plt.subplot(1, 6, 6)\n",
    "plt.title(\"Trained \\n model \\n Weights\")\n",
    "ax = sns.violinplot(y=out_w,color='y')\n",
    "plt.xlabel('Output \\n  Layer ')\n",
    "plt.show()"
   ]
  },
  {
   "cell_type": "markdown",
   "metadata": {},
   "source": [
    "# 15. Conclusion"
   ]
  },
  {
   "cell_type": "code",
   "execution_count": null,
   "metadata": {},
   "outputs": [],
   "source": [
    "adam and relu"
   ]
  },
  {
   "cell_type": "code",
   "execution_count": 9,
   "metadata": {
    "colab": {},
    "colab_type": "code",
    "id": "2qPx4MJTtq7Z"
   },
   "outputs": [
    {
     "name": "stdout",
     "output_type": "stream",
     "text": [
      "+------------------+-------+------------+----------------------------------------+----------------+---------------+\n",
      "| Number of Layers | Epoch | Batch size |             BN and Dropout             | Train Accuracy | Test Accuracy |\n",
      "+------------------+-------+------------+----------------------------------------+----------------+---------------+\n",
      "|       Two        |   40  |    128     |                   No                   |     0.9997     |     0.9857    |\n",
      "|       Two        |   20  |    128     |        Yes at Layer1 and Layer2        |     0.9963     |     0.9827    |\n",
      "|      Three       |   20  |    128     |                   No                   |     0.9981     |     0.9818    |\n",
      "|      Three       |   20  |    128     |        Yes at Layer2 and Layer3        |     0.9979     |     0.9805    |\n",
      "|      Three       |   5   |    128     |        Yes at Layer2 and Layer3        |     0.9873     |     0.9751    |\n",
      "|       Five       |   20  |    128     |                   No                   |     0.9984     |     0.9823    |\n",
      "|       Five       |   20  |    128     | Yes at Layer2,Layer3,Layer4 and Layer5 |     0.9973     |      0.98     |\n",
      "|       Five       |   10  |    128     | Yes at Layer2,Layer3,Layer4 and Layer5 |     0.9924     |     0.979     |\n",
      "|       Five       |   5   |    200     | Yes at Layer2,Layer3,Layer4 and Layer5 |     0.9843     |     0.9721    |\n",
      "+------------------+-------+------------+----------------------------------------+----------------+---------------+\n"
     ]
    }
   ],
   "source": [
    "# http://zetcode.com/python/prettytable/\n",
    "from prettytable import PrettyTable\n",
    "\n",
    "#If you get a ModuleNotFoundError error , install prettytable using: pip3 install prettytable\n",
    "\n",
    "x = PrettyTable()\n",
    "\n",
    "x.field_names = [ \"Number of Layers\", \"Epoch\",\"Batch size\",\"BN and Dropout\",\"Train Accuracy\",\"Test Accuracy\"]\n",
    "\n",
    "x.add_row([\"Two\",40,128,\"No\",0.9997,0.9857])\n",
    "x.add_row([\"Two\",20,128,\"Yes at Layer1 and Layer2\",0.9963,0.9827])\n",
    "x.add_row([\"Three\",20,128,\"No\",0.9981,0.9818])\n",
    "x.add_row([\"Three\",20,128,\"Yes at Layer2 and Layer3\",0.9979,0.9805])\n",
    "x.add_row([\"Three\",5,128,\"Yes at Layer2 and Layer3\",0.9873,0.9751])\n",
    "x.add_row([\"Five\",20,128,\"No\",0.9984,0.9823])\n",
    "x.add_row([\"Five\",20,128,\"Yes at Layer2,Layer3,Layer4 and Layer5\",0.9973,0.98])\n",
    "x.add_row([\"Five\",10,128,\"Yes at Layer2,Layer3,Layer4 and Layer5\",0.9924,0.979])\n",
    "x.add_row([\"Five\",5,200,\"Yes at Layer2,Layer3,Layer4 and Layer5\",0.9843,0.9721])\n",
    "\n",
    "print(x)\n",
    "\n",
    "\n",
    "\n"
   ]
  },
  {
   "cell_type": "code",
   "execution_count": null,
   "metadata": {},
   "outputs": [],
   "source": []
  },
  {
   "cell_type": "code",
   "execution_count": null,
   "metadata": {},
   "outputs": [],
   "source": []
  }
 ],
 "metadata": {
  "accelerator": "GPU",
  "colab": {
   "collapsed_sections": [],
   "name": "Keras_Mnist.ipynb",
   "provenance": []
  },
  "kernelspec": {
   "display_name": "Python 3",
   "language": "python",
   "name": "python3"
  },
  "language_info": {
   "codemirror_mode": {
    "name": "ipython",
    "version": 3
   },
   "file_extension": ".py",
   "mimetype": "text/x-python",
   "name": "python",
   "nbconvert_exporter": "python",
   "pygments_lexer": "ipython3",
   "version": "3.7.3"
  }
 },
 "nbformat": 4,
 "nbformat_minor": 1
}
